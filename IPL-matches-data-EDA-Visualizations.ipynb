{
 "cells": [
  {
   "cell_type": "markdown",
   "metadata": {
    "papermill": {
     "duration": 0.019942,
     "end_time": "2021-07-16T09:14:59.138480",
     "exception": false,
     "start_time": "2021-07-16T09:14:59.118538",
     "status": "completed"
    },
    "tags": []
   },
   "source": [
    "# IPL MATCHES DATA EDA AND VISUALIZATION"
   ]
  },
  {
   "cell_type": "markdown",
   "metadata": {
    "papermill": {
     "duration": 0.018076,
     "end_time": "2021-07-16T09:14:59.175283",
     "exception": false,
     "start_time": "2021-07-16T09:14:59.157207",
     "status": "completed"
    },
    "tags": []
   },
   "source": [
    "## 1. Importing Libraries"
   ]
  },
  {
   "cell_type": "code",
   "execution_count": 7,
   "metadata": {
    "_cell_guid": "b1076dfc-b9ad-4769-8c92-a6c4dae69d19",
    "_uuid": "8f2839f25d086af736a60e9eeb907d3b93b6e0e5",
    "execution": {
     "iopub.execute_input": "2021-07-16T09:14:59.225151Z",
     "iopub.status.busy": "2021-07-16T09:14:59.224549Z",
     "iopub.status.idle": "2021-07-16T09:14:59.975964Z",
     "shell.execute_reply": "2021-07-16T09:14:59.975065Z",
     "shell.execute_reply.started": "2021-07-16T09:13:54.512003Z"
    },
    "papermill": {
     "duration": 0.782367,
     "end_time": "2021-07-16T09:14:59.976156",
     "exception": false,
     "start_time": "2021-07-16T09:14:59.193789",
     "status": "completed"
    },
    "tags": []
   },
   "outputs": [],
   "source": [
    "import numpy as np\n",
    "import pandas as pd\n",
    "import matplotlib.pyplot as plt\n",
    "%matplotlib inline\n",
    "import seaborn as sns\n",
    "sns.set_style(\"whitegrid\")"
   ]
  },
  {
   "cell_type": "markdown",
   "metadata": {
    "papermill": {
     "duration": 0.019428,
     "end_time": "2021-07-16T09:15:00.014478",
     "exception": false,
     "start_time": "2021-07-16T09:14:59.995050",
     "status": "completed"
    },
    "tags": []
   },
   "source": [
    "## 2. Loading Data into Dataframe"
   ]
  },
  {
   "cell_type": "code",
   "execution_count": 9,
   "metadata": {
    "execution": {
     "iopub.execute_input": "2021-07-16T09:15:00.054847Z",
     "iopub.status.busy": "2021-07-16T09:15:00.054198Z",
     "iopub.status.idle": "2021-07-16T09:15:00.079274Z",
     "shell.execute_reply": "2021-07-16T09:15:00.078035Z",
     "shell.execute_reply.started": "2021-07-16T09:13:55.262715Z"
    },
    "papermill": {
     "duration": 0.045838,
     "end_time": "2021-07-16T09:15:00.079454",
     "exception": false,
     "start_time": "2021-07-16T09:15:00.033616",
     "status": "completed"
    },
    "tags": []
   },
   "outputs": [],
   "source": [
    "df_matches = pd.read_csv(r'C:\\Users\\keerthika\\Desktop\\portfolio proj\\Ipl dataset\\matches.csv')"
   ]
  },
  {
   "cell_type": "code",
   "execution_count": 57,
   "metadata": {},
   "outputs": [],
   "source": [
    "# load deliveries dataset\n",
    "df_deliveries = pd.read_csv(r'C:\\Users\\keerthika\\Desktop\\portfolio proj\\Ipl dataset\\deliveries.csv')"
   ]
  },
  {
   "cell_type": "markdown",
   "metadata": {
    "papermill": {
     "duration": 0.018596,
     "end_time": "2021-07-16T09:15:00.117089",
     "exception": false,
     "start_time": "2021-07-16T09:15:00.098493",
     "status": "completed"
    },
    "tags": []
   },
   "source": [
    "## 3. Exploratory Data Analysis"
   ]
  },
  {
   "cell_type": "code",
   "execution_count": 10,
   "metadata": {
    "execution": {
     "iopub.execute_input": "2021-07-16T09:15:00.164956Z",
     "iopub.status.busy": "2021-07-16T09:15:00.164343Z",
     "iopub.status.idle": "2021-07-16T09:15:00.189626Z",
     "shell.execute_reply": "2021-07-16T09:15:00.190109Z",
     "shell.execute_reply.started": "2021-07-16T09:13:55.291248Z"
    },
    "papermill": {
     "duration": 0.053872,
     "end_time": "2021-07-16T09:15:00.190279",
     "exception": false,
     "start_time": "2021-07-16T09:15:00.136407",
     "status": "completed"
    },
    "tags": []
   },
   "outputs": [
    {
     "data": {
      "text/html": [
       "<div>\n",
       "<style scoped>\n",
       "    .dataframe tbody tr th:only-of-type {\n",
       "        vertical-align: middle;\n",
       "    }\n",
       "\n",
       "    .dataframe tbody tr th {\n",
       "        vertical-align: top;\n",
       "    }\n",
       "\n",
       "    .dataframe thead th {\n",
       "        text-align: right;\n",
       "    }\n",
       "</style>\n",
       "<table border=\"1\" class=\"dataframe\">\n",
       "  <thead>\n",
       "    <tr style=\"text-align: right;\">\n",
       "      <th></th>\n",
       "      <th>id</th>\n",
       "      <th>Season</th>\n",
       "      <th>city</th>\n",
       "      <th>date</th>\n",
       "      <th>team1</th>\n",
       "      <th>team2</th>\n",
       "      <th>toss_winner</th>\n",
       "      <th>toss_decision</th>\n",
       "      <th>result</th>\n",
       "      <th>dl_applied</th>\n",
       "      <th>winner</th>\n",
       "      <th>win_by_runs</th>\n",
       "      <th>win_by_wickets</th>\n",
       "      <th>player_of_match</th>\n",
       "      <th>venue</th>\n",
       "      <th>umpire1</th>\n",
       "      <th>umpire2</th>\n",
       "      <th>umpire3</th>\n",
       "    </tr>\n",
       "  </thead>\n",
       "  <tbody>\n",
       "    <tr>\n",
       "      <th>0</th>\n",
       "      <td>1</td>\n",
       "      <td>IPL-2017</td>\n",
       "      <td>Hyderabad</td>\n",
       "      <td>05-04-2017</td>\n",
       "      <td>Sunrisers Hyderabad</td>\n",
       "      <td>Royal Challengers Bangalore</td>\n",
       "      <td>Royal Challengers Bangalore</td>\n",
       "      <td>field</td>\n",
       "      <td>normal</td>\n",
       "      <td>0</td>\n",
       "      <td>Sunrisers Hyderabad</td>\n",
       "      <td>35</td>\n",
       "      <td>0</td>\n",
       "      <td>Yuvraj Singh</td>\n",
       "      <td>Rajiv Gandhi International Stadium, Uppal</td>\n",
       "      <td>AY Dandekar</td>\n",
       "      <td>NJ Llong</td>\n",
       "      <td>NaN</td>\n",
       "    </tr>\n",
       "    <tr>\n",
       "      <th>1</th>\n",
       "      <td>2</td>\n",
       "      <td>IPL-2017</td>\n",
       "      <td>Pune</td>\n",
       "      <td>06-04-2017</td>\n",
       "      <td>Mumbai Indians</td>\n",
       "      <td>Rising Pune Supergiant</td>\n",
       "      <td>Rising Pune Supergiant</td>\n",
       "      <td>field</td>\n",
       "      <td>normal</td>\n",
       "      <td>0</td>\n",
       "      <td>Rising Pune Supergiant</td>\n",
       "      <td>0</td>\n",
       "      <td>7</td>\n",
       "      <td>SPD Smith</td>\n",
       "      <td>Maharashtra Cricket Association Stadium</td>\n",
       "      <td>A Nand Kishore</td>\n",
       "      <td>S Ravi</td>\n",
       "      <td>NaN</td>\n",
       "    </tr>\n",
       "    <tr>\n",
       "      <th>2</th>\n",
       "      <td>3</td>\n",
       "      <td>IPL-2017</td>\n",
       "      <td>Rajkot</td>\n",
       "      <td>07-04-2017</td>\n",
       "      <td>Gujarat Lions</td>\n",
       "      <td>Kolkata Knight Riders</td>\n",
       "      <td>Kolkata Knight Riders</td>\n",
       "      <td>field</td>\n",
       "      <td>normal</td>\n",
       "      <td>0</td>\n",
       "      <td>Kolkata Knight Riders</td>\n",
       "      <td>0</td>\n",
       "      <td>10</td>\n",
       "      <td>CA Lynn</td>\n",
       "      <td>Saurashtra Cricket Association Stadium</td>\n",
       "      <td>Nitin Menon</td>\n",
       "      <td>CK Nandan</td>\n",
       "      <td>NaN</td>\n",
       "    </tr>\n",
       "    <tr>\n",
       "      <th>3</th>\n",
       "      <td>4</td>\n",
       "      <td>IPL-2017</td>\n",
       "      <td>Indore</td>\n",
       "      <td>08-04-2017</td>\n",
       "      <td>Rising Pune Supergiant</td>\n",
       "      <td>Kings XI Punjab</td>\n",
       "      <td>Kings XI Punjab</td>\n",
       "      <td>field</td>\n",
       "      <td>normal</td>\n",
       "      <td>0</td>\n",
       "      <td>Kings XI Punjab</td>\n",
       "      <td>0</td>\n",
       "      <td>6</td>\n",
       "      <td>GJ Maxwell</td>\n",
       "      <td>Holkar Cricket Stadium</td>\n",
       "      <td>AK Chaudhary</td>\n",
       "      <td>C Shamshuddin</td>\n",
       "      <td>NaN</td>\n",
       "    </tr>\n",
       "    <tr>\n",
       "      <th>4</th>\n",
       "      <td>5</td>\n",
       "      <td>IPL-2017</td>\n",
       "      <td>Bangalore</td>\n",
       "      <td>08-04-2017</td>\n",
       "      <td>Royal Challengers Bangalore</td>\n",
       "      <td>Delhi Daredevils</td>\n",
       "      <td>Royal Challengers Bangalore</td>\n",
       "      <td>bat</td>\n",
       "      <td>normal</td>\n",
       "      <td>0</td>\n",
       "      <td>Royal Challengers Bangalore</td>\n",
       "      <td>15</td>\n",
       "      <td>0</td>\n",
       "      <td>KM Jadhav</td>\n",
       "      <td>M Chinnaswamy Stadium</td>\n",
       "      <td>NaN</td>\n",
       "      <td>NaN</td>\n",
       "      <td>NaN</td>\n",
       "    </tr>\n",
       "  </tbody>\n",
       "</table>\n",
       "</div>"
      ],
      "text/plain": [
       "   id    Season       city        date                        team1  \\\n",
       "0   1  IPL-2017  Hyderabad  05-04-2017          Sunrisers Hyderabad   \n",
       "1   2  IPL-2017       Pune  06-04-2017               Mumbai Indians   \n",
       "2   3  IPL-2017     Rajkot  07-04-2017                Gujarat Lions   \n",
       "3   4  IPL-2017     Indore  08-04-2017       Rising Pune Supergiant   \n",
       "4   5  IPL-2017  Bangalore  08-04-2017  Royal Challengers Bangalore   \n",
       "\n",
       "                         team2                  toss_winner toss_decision  \\\n",
       "0  Royal Challengers Bangalore  Royal Challengers Bangalore         field   \n",
       "1       Rising Pune Supergiant       Rising Pune Supergiant         field   \n",
       "2        Kolkata Knight Riders        Kolkata Knight Riders         field   \n",
       "3              Kings XI Punjab              Kings XI Punjab         field   \n",
       "4             Delhi Daredevils  Royal Challengers Bangalore           bat   \n",
       "\n",
       "   result  dl_applied                       winner  win_by_runs  \\\n",
       "0  normal           0          Sunrisers Hyderabad           35   \n",
       "1  normal           0       Rising Pune Supergiant            0   \n",
       "2  normal           0        Kolkata Knight Riders            0   \n",
       "3  normal           0              Kings XI Punjab            0   \n",
       "4  normal           0  Royal Challengers Bangalore           15   \n",
       "\n",
       "   win_by_wickets player_of_match                                      venue  \\\n",
       "0               0    Yuvraj Singh  Rajiv Gandhi International Stadium, Uppal   \n",
       "1               7       SPD Smith    Maharashtra Cricket Association Stadium   \n",
       "2              10         CA Lynn     Saurashtra Cricket Association Stadium   \n",
       "3               6      GJ Maxwell                     Holkar Cricket Stadium   \n",
       "4               0       KM Jadhav                      M Chinnaswamy Stadium   \n",
       "\n",
       "          umpire1        umpire2 umpire3  \n",
       "0     AY Dandekar       NJ Llong     NaN  \n",
       "1  A Nand Kishore         S Ravi     NaN  \n",
       "2     Nitin Menon      CK Nandan     NaN  \n",
       "3    AK Chaudhary  C Shamshuddin     NaN  \n",
       "4             NaN            NaN     NaN  "
      ]
     },
     "execution_count": 10,
     "metadata": {},
     "output_type": "execute_result"
    }
   ],
   "source": [
    "# printing first five rows\n",
    "df_matches.head()"
   ]
  },
  {
   "cell_type": "code",
   "execution_count": 53,
   "metadata": {},
   "outputs": [
    {
     "data": {
      "text/html": [
       "<div>\n",
       "<style scoped>\n",
       "    .dataframe tbody tr th:only-of-type {\n",
       "        vertical-align: middle;\n",
       "    }\n",
       "\n",
       "    .dataframe tbody tr th {\n",
       "        vertical-align: top;\n",
       "    }\n",
       "\n",
       "    .dataframe thead th {\n",
       "        text-align: right;\n",
       "    }\n",
       "</style>\n",
       "<table border=\"1\" class=\"dataframe\">\n",
       "  <thead>\n",
       "    <tr style=\"text-align: right;\">\n",
       "      <th></th>\n",
       "      <th>match_id</th>\n",
       "      <th>inning</th>\n",
       "      <th>batting_team</th>\n",
       "      <th>bowling_team</th>\n",
       "      <th>over</th>\n",
       "      <th>ball</th>\n",
       "      <th>batsman</th>\n",
       "      <th>non_striker</th>\n",
       "      <th>bowler</th>\n",
       "      <th>is_super_over</th>\n",
       "      <th>...</th>\n",
       "      <th>bye_runs</th>\n",
       "      <th>legbye_runs</th>\n",
       "      <th>noball_runs</th>\n",
       "      <th>penalty_runs</th>\n",
       "      <th>batsman_runs</th>\n",
       "      <th>extra_runs</th>\n",
       "      <th>total_runs</th>\n",
       "      <th>player_dismissed</th>\n",
       "      <th>dismissal_kind</th>\n",
       "      <th>fielder</th>\n",
       "    </tr>\n",
       "  </thead>\n",
       "  <tbody>\n",
       "    <tr>\n",
       "      <th>0</th>\n",
       "      <td>1</td>\n",
       "      <td>1</td>\n",
       "      <td>Sunrisers Hyderabad</td>\n",
       "      <td>Royal Challengers Bangalore</td>\n",
       "      <td>1</td>\n",
       "      <td>1</td>\n",
       "      <td>DA Warner</td>\n",
       "      <td>S Dhawan</td>\n",
       "      <td>TS Mills</td>\n",
       "      <td>0</td>\n",
       "      <td>...</td>\n",
       "      <td>0</td>\n",
       "      <td>0</td>\n",
       "      <td>0</td>\n",
       "      <td>0</td>\n",
       "      <td>0</td>\n",
       "      <td>0</td>\n",
       "      <td>0</td>\n",
       "      <td>NaN</td>\n",
       "      <td>NaN</td>\n",
       "      <td>NaN</td>\n",
       "    </tr>\n",
       "    <tr>\n",
       "      <th>1</th>\n",
       "      <td>1</td>\n",
       "      <td>1</td>\n",
       "      <td>Sunrisers Hyderabad</td>\n",
       "      <td>Royal Challengers Bangalore</td>\n",
       "      <td>1</td>\n",
       "      <td>2</td>\n",
       "      <td>DA Warner</td>\n",
       "      <td>S Dhawan</td>\n",
       "      <td>TS Mills</td>\n",
       "      <td>0</td>\n",
       "      <td>...</td>\n",
       "      <td>0</td>\n",
       "      <td>0</td>\n",
       "      <td>0</td>\n",
       "      <td>0</td>\n",
       "      <td>0</td>\n",
       "      <td>0</td>\n",
       "      <td>0</td>\n",
       "      <td>NaN</td>\n",
       "      <td>NaN</td>\n",
       "      <td>NaN</td>\n",
       "    </tr>\n",
       "    <tr>\n",
       "      <th>2</th>\n",
       "      <td>1</td>\n",
       "      <td>1</td>\n",
       "      <td>Sunrisers Hyderabad</td>\n",
       "      <td>Royal Challengers Bangalore</td>\n",
       "      <td>1</td>\n",
       "      <td>3</td>\n",
       "      <td>DA Warner</td>\n",
       "      <td>S Dhawan</td>\n",
       "      <td>TS Mills</td>\n",
       "      <td>0</td>\n",
       "      <td>...</td>\n",
       "      <td>0</td>\n",
       "      <td>0</td>\n",
       "      <td>0</td>\n",
       "      <td>0</td>\n",
       "      <td>4</td>\n",
       "      <td>0</td>\n",
       "      <td>4</td>\n",
       "      <td>NaN</td>\n",
       "      <td>NaN</td>\n",
       "      <td>NaN</td>\n",
       "    </tr>\n",
       "    <tr>\n",
       "      <th>3</th>\n",
       "      <td>1</td>\n",
       "      <td>1</td>\n",
       "      <td>Sunrisers Hyderabad</td>\n",
       "      <td>Royal Challengers Bangalore</td>\n",
       "      <td>1</td>\n",
       "      <td>4</td>\n",
       "      <td>DA Warner</td>\n",
       "      <td>S Dhawan</td>\n",
       "      <td>TS Mills</td>\n",
       "      <td>0</td>\n",
       "      <td>...</td>\n",
       "      <td>0</td>\n",
       "      <td>0</td>\n",
       "      <td>0</td>\n",
       "      <td>0</td>\n",
       "      <td>0</td>\n",
       "      <td>0</td>\n",
       "      <td>0</td>\n",
       "      <td>NaN</td>\n",
       "      <td>NaN</td>\n",
       "      <td>NaN</td>\n",
       "    </tr>\n",
       "    <tr>\n",
       "      <th>4</th>\n",
       "      <td>1</td>\n",
       "      <td>1</td>\n",
       "      <td>Sunrisers Hyderabad</td>\n",
       "      <td>Royal Challengers Bangalore</td>\n",
       "      <td>1</td>\n",
       "      <td>5</td>\n",
       "      <td>DA Warner</td>\n",
       "      <td>S Dhawan</td>\n",
       "      <td>TS Mills</td>\n",
       "      <td>0</td>\n",
       "      <td>...</td>\n",
       "      <td>0</td>\n",
       "      <td>0</td>\n",
       "      <td>0</td>\n",
       "      <td>0</td>\n",
       "      <td>0</td>\n",
       "      <td>2</td>\n",
       "      <td>2</td>\n",
       "      <td>NaN</td>\n",
       "      <td>NaN</td>\n",
       "      <td>NaN</td>\n",
       "    </tr>\n",
       "  </tbody>\n",
       "</table>\n",
       "<p>5 rows × 21 columns</p>\n",
       "</div>"
      ],
      "text/plain": [
       "   match_id  inning         batting_team                 bowling_team  over  \\\n",
       "0         1       1  Sunrisers Hyderabad  Royal Challengers Bangalore     1   \n",
       "1         1       1  Sunrisers Hyderabad  Royal Challengers Bangalore     1   \n",
       "2         1       1  Sunrisers Hyderabad  Royal Challengers Bangalore     1   \n",
       "3         1       1  Sunrisers Hyderabad  Royal Challengers Bangalore     1   \n",
       "4         1       1  Sunrisers Hyderabad  Royal Challengers Bangalore     1   \n",
       "\n",
       "   ball    batsman non_striker    bowler  is_super_over  ...  bye_runs  \\\n",
       "0     1  DA Warner    S Dhawan  TS Mills              0  ...         0   \n",
       "1     2  DA Warner    S Dhawan  TS Mills              0  ...         0   \n",
       "2     3  DA Warner    S Dhawan  TS Mills              0  ...         0   \n",
       "3     4  DA Warner    S Dhawan  TS Mills              0  ...         0   \n",
       "4     5  DA Warner    S Dhawan  TS Mills              0  ...         0   \n",
       "\n",
       "   legbye_runs  noball_runs  penalty_runs  batsman_runs  extra_runs  \\\n",
       "0            0            0             0             0           0   \n",
       "1            0            0             0             0           0   \n",
       "2            0            0             0             4           0   \n",
       "3            0            0             0             0           0   \n",
       "4            0            0             0             0           2   \n",
       "\n",
       "   total_runs  player_dismissed dismissal_kind fielder  \n",
       "0           0               NaN            NaN     NaN  \n",
       "1           0               NaN            NaN     NaN  \n",
       "2           4               NaN            NaN     NaN  \n",
       "3           0               NaN            NaN     NaN  \n",
       "4           2               NaN            NaN     NaN  \n",
       "\n",
       "[5 rows x 21 columns]"
      ]
     },
     "execution_count": 53,
     "metadata": {},
     "output_type": "execute_result"
    }
   ],
   "source": [
    "deliveries_df.head()"
   ]
  },
  {
   "cell_type": "code",
   "execution_count": 11,
   "metadata": {
    "execution": {
     "iopub.execute_input": "2021-07-16T09:15:00.232353Z",
     "iopub.status.busy": "2021-07-16T09:15:00.231723Z",
     "iopub.status.idle": "2021-07-16T09:15:00.237956Z",
     "shell.execute_reply": "2021-07-16T09:15:00.238866Z",
     "shell.execute_reply.started": "2021-07-16T09:13:55.327569Z"
    },
    "papermill": {
     "duration": 0.029069,
     "end_time": "2021-07-16T09:15:00.239144",
     "exception": false,
     "start_time": "2021-07-16T09:15:00.210075",
     "status": "completed"
    },
    "tags": []
   },
   "outputs": [
    {
     "name": "stdout",
     "output_type": "stream",
     "text": [
      "Shape of matches data (756, 18)\n"
     ]
    }
   ],
   "source": [
    "# Shape Of the matches Dataset\n",
    "print('Shape of matches data',df_matches.shape)"
   ]
  },
  {
   "cell_type": "code",
   "execution_count": 58,
   "metadata": {},
   "outputs": [
    {
     "name": "stdout",
     "output_type": "stream",
     "text": [
      "Shape of matches data (179078, 21)\n"
     ]
    }
   ],
   "source": [
    "# Shape Of the deliveries Dataset\n",
    "\n",
    "print('Shape of matches data',df_deliveries.shape)"
   ]
  },
  {
   "cell_type": "code",
   "execution_count": 51,
   "metadata": {
    "execution": {
     "iopub.execute_input": "2021-07-16T09:15:00.288863Z",
     "iopub.status.busy": "2021-07-16T09:15:00.288231Z",
     "iopub.status.idle": "2021-07-16T09:15:00.302211Z",
     "shell.execute_reply": "2021-07-16T09:15:00.302905Z",
     "shell.execute_reply.started": "2021-07-16T09:13:55.334601Z"
    },
    "papermill": {
     "duration": 0.043664,
     "end_time": "2021-07-16T09:15:00.303144",
     "exception": false,
     "start_time": "2021-07-16T09:15:00.259480",
     "status": "completed"
    },
    "tags": []
   },
   "outputs": [
    {
     "name": "stdout",
     "output_type": "stream",
     "text": [
      "<class 'pandas.core.frame.DataFrame'>\n",
      "RangeIndex: 756 entries, 0 to 755\n",
      "Data columns (total 18 columns):\n",
      " #   Column           Non-Null Count  Dtype \n",
      "---  ------           --------------  ----- \n",
      " 0   id               756 non-null    int64 \n",
      " 1   Season           756 non-null    object\n",
      " 2   city             749 non-null    object\n",
      " 3   date             756 non-null    object\n",
      " 4   team1            756 non-null    object\n",
      " 5   team2            756 non-null    object\n",
      " 6   toss_winner      756 non-null    object\n",
      " 7   toss_decision    756 non-null    object\n",
      " 8   result           756 non-null    object\n",
      " 9   dl_applied       756 non-null    int64 \n",
      " 10  winner           752 non-null    object\n",
      " 11  win_by_runs      756 non-null    int64 \n",
      " 12  win_by_wickets   756 non-null    int64 \n",
      " 13  player_of_match  752 non-null    object\n",
      " 14  venue            756 non-null    object\n",
      " 15  umpire1          754 non-null    object\n",
      " 16  umpire2          754 non-null    object\n",
      " 17  umpire3          119 non-null    object\n",
      "dtypes: int64(4), object(14)\n",
      "memory usage: 106.4+ KB\n"
     ]
    }
   ],
   "source": [
    "# summary of the matches dataset\n",
    "df_matches.info()"
   ]
  },
  {
   "cell_type": "code",
   "execution_count": 59,
   "metadata": {},
   "outputs": [
    {
     "name": "stdout",
     "output_type": "stream",
     "text": [
      "<class 'pandas.core.frame.DataFrame'>\n",
      "RangeIndex: 179078 entries, 0 to 179077\n",
      "Data columns (total 21 columns):\n",
      " #   Column            Non-Null Count   Dtype \n",
      "---  ------            --------------   ----- \n",
      " 0   match_id          179078 non-null  int64 \n",
      " 1   inning            179078 non-null  int64 \n",
      " 2   batting_team      179078 non-null  object\n",
      " 3   bowling_team      179078 non-null  object\n",
      " 4   over              179078 non-null  int64 \n",
      " 5   ball              179078 non-null  int64 \n",
      " 6   batsman           179078 non-null  object\n",
      " 7   non_striker       179078 non-null  object\n",
      " 8   bowler            179078 non-null  object\n",
      " 9   is_super_over     179078 non-null  int64 \n",
      " 10  wide_runs         179078 non-null  int64 \n",
      " 11  bye_runs          179078 non-null  int64 \n",
      " 12  legbye_runs       179078 non-null  int64 \n",
      " 13  noball_runs       179078 non-null  int64 \n",
      " 14  penalty_runs      179078 non-null  int64 \n",
      " 15  batsman_runs      179078 non-null  int64 \n",
      " 16  extra_runs        179078 non-null  int64 \n",
      " 17  total_runs        179078 non-null  int64 \n",
      " 18  player_dismissed  8834 non-null    object\n",
      " 19  dismissal_kind    8834 non-null    object\n",
      " 20  fielder           6448 non-null    object\n",
      "dtypes: int64(13), object(8)\n",
      "memory usage: 28.7+ MB\n"
     ]
    }
   ],
   "source": [
    "# summary of the matches dataset\n",
    "df_deliveries.info()"
   ]
  },
  {
   "cell_type": "code",
   "execution_count": 6,
   "metadata": {
    "execution": {
     "iopub.execute_input": "2021-07-16T09:15:00.352283Z",
     "iopub.status.busy": "2021-07-16T09:15:00.351425Z",
     "iopub.status.idle": "2021-07-16T09:15:00.355298Z",
     "shell.execute_reply": "2021-07-16T09:15:00.354819Z",
     "shell.execute_reply.started": "2021-07-16T09:13:55.361132Z"
    },
    "papermill": {
     "duration": 0.031939,
     "end_time": "2021-07-16T09:15:00.355445",
     "exception": false,
     "start_time": "2021-07-16T09:15:00.323506",
     "status": "completed"
    },
    "tags": []
   },
   "outputs": [
    {
     "data": {
      "text/plain": [
       "id                   0\n",
       "Season               0\n",
       "city                 7\n",
       "date                 0\n",
       "team1                0\n",
       "team2                0\n",
       "toss_winner          0\n",
       "toss_decision        0\n",
       "result               0\n",
       "dl_applied           0\n",
       "winner               4\n",
       "win_by_runs          0\n",
       "win_by_wickets       0\n",
       "player_of_match      4\n",
       "venue                0\n",
       "umpire1              2\n",
       "umpire2              2\n",
       "umpire3            637\n",
       "dtype: int64"
      ]
     },
     "execution_count": 6,
     "metadata": {},
     "output_type": "execute_result"
    }
   ],
   "source": [
    "# Checking for Null Values\n",
    "df_matches.isnull().sum()"
   ]
  },
  {
   "cell_type": "code",
   "execution_count": 60,
   "metadata": {},
   "outputs": [
    {
     "data": {
      "text/plain": [
       "match_id                 0\n",
       "inning                   0\n",
       "batting_team             0\n",
       "bowling_team             0\n",
       "over                     0\n",
       "ball                     0\n",
       "batsman                  0\n",
       "non_striker              0\n",
       "bowler                   0\n",
       "is_super_over            0\n",
       "wide_runs                0\n",
       "bye_runs                 0\n",
       "legbye_runs              0\n",
       "noball_runs              0\n",
       "penalty_runs             0\n",
       "batsman_runs             0\n",
       "extra_runs               0\n",
       "total_runs               0\n",
       "player_dismissed    170244\n",
       "dismissal_kind      170244\n",
       "fielder             172630\n",
       "dtype: int64"
      ]
     },
     "execution_count": 60,
     "metadata": {},
     "output_type": "execute_result"
    }
   ],
   "source": [
    "# Checking for Null Values\n",
    "df_deliveries.isnull().sum()"
   ]
  },
  {
   "cell_type": "code",
   "execution_count": 65,
   "metadata": {},
   "outputs": [
    {
     "data": {
      "text/html": [
       "<div>\n",
       "<style scoped>\n",
       "    .dataframe tbody tr th:only-of-type {\n",
       "        vertical-align: middle;\n",
       "    }\n",
       "\n",
       "    .dataframe tbody tr th {\n",
       "        vertical-align: top;\n",
       "    }\n",
       "\n",
       "    .dataframe thead th {\n",
       "        text-align: right;\n",
       "    }\n",
       "</style>\n",
       "<table border=\"1\" class=\"dataframe\">\n",
       "  <thead>\n",
       "    <tr style=\"text-align: right;\">\n",
       "      <th></th>\n",
       "      <th>match_id</th>\n",
       "      <th>inning</th>\n",
       "      <th>batting_team</th>\n",
       "      <th>bowling_team</th>\n",
       "      <th>over</th>\n",
       "      <th>ball</th>\n",
       "      <th>batsman</th>\n",
       "      <th>non_striker</th>\n",
       "      <th>bowler</th>\n",
       "      <th>is_super_over</th>\n",
       "      <th>...</th>\n",
       "      <th>result</th>\n",
       "      <th>dl_applied</th>\n",
       "      <th>winner</th>\n",
       "      <th>win_by_runs</th>\n",
       "      <th>win_by_wickets</th>\n",
       "      <th>player_of_match</th>\n",
       "      <th>venue</th>\n",
       "      <th>umpire1</th>\n",
       "      <th>umpire2</th>\n",
       "      <th>umpire3</th>\n",
       "    </tr>\n",
       "  </thead>\n",
       "  <tbody>\n",
       "    <tr>\n",
       "      <th>0</th>\n",
       "      <td>1</td>\n",
       "      <td>1</td>\n",
       "      <td>Sunrisers Hyderabad</td>\n",
       "      <td>Royal Challengers Bangalore</td>\n",
       "      <td>1</td>\n",
       "      <td>1</td>\n",
       "      <td>DA Warner</td>\n",
       "      <td>S Dhawan</td>\n",
       "      <td>TS Mills</td>\n",
       "      <td>0</td>\n",
       "      <td>...</td>\n",
       "      <td>normal</td>\n",
       "      <td>0</td>\n",
       "      <td>Sunrisers Hyderabad</td>\n",
       "      <td>35</td>\n",
       "      <td>0</td>\n",
       "      <td>Yuvraj Singh</td>\n",
       "      <td>Rajiv Gandhi International Stadium, Uppal</td>\n",
       "      <td>AY Dandekar</td>\n",
       "      <td>NJ Llong</td>\n",
       "      <td>NaN</td>\n",
       "    </tr>\n",
       "    <tr>\n",
       "      <th>1</th>\n",
       "      <td>1</td>\n",
       "      <td>1</td>\n",
       "      <td>Sunrisers Hyderabad</td>\n",
       "      <td>Royal Challengers Bangalore</td>\n",
       "      <td>1</td>\n",
       "      <td>2</td>\n",
       "      <td>DA Warner</td>\n",
       "      <td>S Dhawan</td>\n",
       "      <td>TS Mills</td>\n",
       "      <td>0</td>\n",
       "      <td>...</td>\n",
       "      <td>normal</td>\n",
       "      <td>0</td>\n",
       "      <td>Sunrisers Hyderabad</td>\n",
       "      <td>35</td>\n",
       "      <td>0</td>\n",
       "      <td>Yuvraj Singh</td>\n",
       "      <td>Rajiv Gandhi International Stadium, Uppal</td>\n",
       "      <td>AY Dandekar</td>\n",
       "      <td>NJ Llong</td>\n",
       "      <td>NaN</td>\n",
       "    </tr>\n",
       "    <tr>\n",
       "      <th>2</th>\n",
       "      <td>1</td>\n",
       "      <td>1</td>\n",
       "      <td>Sunrisers Hyderabad</td>\n",
       "      <td>Royal Challengers Bangalore</td>\n",
       "      <td>1</td>\n",
       "      <td>3</td>\n",
       "      <td>DA Warner</td>\n",
       "      <td>S Dhawan</td>\n",
       "      <td>TS Mills</td>\n",
       "      <td>0</td>\n",
       "      <td>...</td>\n",
       "      <td>normal</td>\n",
       "      <td>0</td>\n",
       "      <td>Sunrisers Hyderabad</td>\n",
       "      <td>35</td>\n",
       "      <td>0</td>\n",
       "      <td>Yuvraj Singh</td>\n",
       "      <td>Rajiv Gandhi International Stadium, Uppal</td>\n",
       "      <td>AY Dandekar</td>\n",
       "      <td>NJ Llong</td>\n",
       "      <td>NaN</td>\n",
       "    </tr>\n",
       "    <tr>\n",
       "      <th>3</th>\n",
       "      <td>1</td>\n",
       "      <td>1</td>\n",
       "      <td>Sunrisers Hyderabad</td>\n",
       "      <td>Royal Challengers Bangalore</td>\n",
       "      <td>1</td>\n",
       "      <td>4</td>\n",
       "      <td>DA Warner</td>\n",
       "      <td>S Dhawan</td>\n",
       "      <td>TS Mills</td>\n",
       "      <td>0</td>\n",
       "      <td>...</td>\n",
       "      <td>normal</td>\n",
       "      <td>0</td>\n",
       "      <td>Sunrisers Hyderabad</td>\n",
       "      <td>35</td>\n",
       "      <td>0</td>\n",
       "      <td>Yuvraj Singh</td>\n",
       "      <td>Rajiv Gandhi International Stadium, Uppal</td>\n",
       "      <td>AY Dandekar</td>\n",
       "      <td>NJ Llong</td>\n",
       "      <td>NaN</td>\n",
       "    </tr>\n",
       "    <tr>\n",
       "      <th>4</th>\n",
       "      <td>1</td>\n",
       "      <td>1</td>\n",
       "      <td>Sunrisers Hyderabad</td>\n",
       "      <td>Royal Challengers Bangalore</td>\n",
       "      <td>1</td>\n",
       "      <td>5</td>\n",
       "      <td>DA Warner</td>\n",
       "      <td>S Dhawan</td>\n",
       "      <td>TS Mills</td>\n",
       "      <td>0</td>\n",
       "      <td>...</td>\n",
       "      <td>normal</td>\n",
       "      <td>0</td>\n",
       "      <td>Sunrisers Hyderabad</td>\n",
       "      <td>35</td>\n",
       "      <td>0</td>\n",
       "      <td>Yuvraj Singh</td>\n",
       "      <td>Rajiv Gandhi International Stadium, Uppal</td>\n",
       "      <td>AY Dandekar</td>\n",
       "      <td>NJ Llong</td>\n",
       "      <td>NaN</td>\n",
       "    </tr>\n",
       "  </tbody>\n",
       "</table>\n",
       "<p>5 rows × 39 columns</p>\n",
       "</div>"
      ],
      "text/plain": [
       "   match_id  inning         batting_team                 bowling_team  over  \\\n",
       "0         1       1  Sunrisers Hyderabad  Royal Challengers Bangalore     1   \n",
       "1         1       1  Sunrisers Hyderabad  Royal Challengers Bangalore     1   \n",
       "2         1       1  Sunrisers Hyderabad  Royal Challengers Bangalore     1   \n",
       "3         1       1  Sunrisers Hyderabad  Royal Challengers Bangalore     1   \n",
       "4         1       1  Sunrisers Hyderabad  Royal Challengers Bangalore     1   \n",
       "\n",
       "   ball    batsman non_striker    bowler  is_super_over  ...  result  \\\n",
       "0     1  DA Warner    S Dhawan  TS Mills              0  ...  normal   \n",
       "1     2  DA Warner    S Dhawan  TS Mills              0  ...  normal   \n",
       "2     3  DA Warner    S Dhawan  TS Mills              0  ...  normal   \n",
       "3     4  DA Warner    S Dhawan  TS Mills              0  ...  normal   \n",
       "4     5  DA Warner    S Dhawan  TS Mills              0  ...  normal   \n",
       "\n",
       "   dl_applied               winner  win_by_runs  win_by_wickets  \\\n",
       "0           0  Sunrisers Hyderabad           35               0   \n",
       "1           0  Sunrisers Hyderabad           35               0   \n",
       "2           0  Sunrisers Hyderabad           35               0   \n",
       "3           0  Sunrisers Hyderabad           35               0   \n",
       "4           0  Sunrisers Hyderabad           35               0   \n",
       "\n",
       "   player_of_match                                      venue      umpire1  \\\n",
       "0     Yuvraj Singh  Rajiv Gandhi International Stadium, Uppal  AY Dandekar   \n",
       "1     Yuvraj Singh  Rajiv Gandhi International Stadium, Uppal  AY Dandekar   \n",
       "2     Yuvraj Singh  Rajiv Gandhi International Stadium, Uppal  AY Dandekar   \n",
       "3     Yuvraj Singh  Rajiv Gandhi International Stadium, Uppal  AY Dandekar   \n",
       "4     Yuvraj Singh  Rajiv Gandhi International Stadium, Uppal  AY Dandekar   \n",
       "\n",
       "    umpire2 umpire3  \n",
       "0  NJ Llong     NaN  \n",
       "1  NJ Llong     NaN  \n",
       "2  NJ Llong     NaN  \n",
       "3  NJ Llong     NaN  \n",
       "4  NJ Llong     NaN  \n",
       "\n",
       "[5 rows x 39 columns]"
      ]
     },
     "execution_count": 65,
     "metadata": {},
     "output_type": "execute_result"
    }
   ],
   "source": [
    "# merge matches & deliveries datasets\n",
    "df_merge = pd.merge(df_deliveries,df_matches,left_on='match_id',right_on='id')\n",
    "\n",
    "df_merge.head()"
   ]
  },
  {
   "cell_type": "markdown",
   "metadata": {},
   "source": [
    "### *EDA of Matches dataset*"
   ]
  },
  {
   "cell_type": "code",
   "execution_count": 70,
   "metadata": {},
   "outputs": [
    {
     "name": "stdout",
     "output_type": "stream",
     "text": [
      "<class 'pandas.core.frame.DataFrame'>\n",
      "RangeIndex: 756 entries, 0 to 755\n",
      "Data columns (total 18 columns):\n",
      " #   Column           Non-Null Count  Dtype \n",
      "---  ------           --------------  ----- \n",
      " 0   id               756 non-null    int64 \n",
      " 1   Season           756 non-null    object\n",
      " 2   city             749 non-null    object\n",
      " 3   date             756 non-null    object\n",
      " 4   team1            756 non-null    object\n",
      " 5   team2            756 non-null    object\n",
      " 6   toss_winner      756 non-null    object\n",
      " 7   toss_decision    756 non-null    object\n",
      " 8   result           756 non-null    object\n",
      " 9   dl_applied       756 non-null    int64 \n",
      " 10  winner           752 non-null    object\n",
      " 11  win_by_runs      756 non-null    int64 \n",
      " 12  win_by_wickets   756 non-null    int64 \n",
      " 13  player_of_match  752 non-null    object\n",
      " 14  venue            756 non-null    object\n",
      " 15  umpire1          754 non-null    object\n",
      " 16  umpire2          754 non-null    object\n",
      " 17  umpire3          119 non-null    object\n",
      "dtypes: int64(4), object(14)\n",
      "memory usage: 106.4+ KB\n"
     ]
    }
   ],
   "source": [
    "df_matches.info() #df_matches"
   ]
  },
  {
   "cell_type": "code",
   "execution_count": 71,
   "metadata": {},
   "outputs": [
    {
     "data": {
      "text/html": [
       "<div>\n",
       "<style scoped>\n",
       "    .dataframe tbody tr th:only-of-type {\n",
       "        vertical-align: middle;\n",
       "    }\n",
       "\n",
       "    .dataframe tbody tr th {\n",
       "        vertical-align: top;\n",
       "    }\n",
       "\n",
       "    .dataframe thead th {\n",
       "        text-align: right;\n",
       "    }\n",
       "</style>\n",
       "<table border=\"1\" class=\"dataframe\">\n",
       "  <thead>\n",
       "    <tr style=\"text-align: right;\">\n",
       "      <th></th>\n",
       "      <th>id</th>\n",
       "      <th>Season</th>\n",
       "      <th>city</th>\n",
       "      <th>date</th>\n",
       "      <th>team1</th>\n",
       "      <th>team2</th>\n",
       "      <th>toss_winner</th>\n",
       "      <th>toss_decision</th>\n",
       "      <th>result</th>\n",
       "      <th>dl_applied</th>\n",
       "      <th>winner</th>\n",
       "      <th>win_by_runs</th>\n",
       "      <th>win_by_wickets</th>\n",
       "      <th>player_of_match</th>\n",
       "      <th>venue</th>\n",
       "      <th>umpire1</th>\n",
       "      <th>umpire2</th>\n",
       "      <th>umpire3</th>\n",
       "    </tr>\n",
       "  </thead>\n",
       "  <tbody>\n",
       "    <tr>\n",
       "      <th>count</th>\n",
       "      <td>756.000000</td>\n",
       "      <td>756</td>\n",
       "      <td>749</td>\n",
       "      <td>756</td>\n",
       "      <td>756</td>\n",
       "      <td>756</td>\n",
       "      <td>756</td>\n",
       "      <td>756</td>\n",
       "      <td>756</td>\n",
       "      <td>756.000000</td>\n",
       "      <td>752</td>\n",
       "      <td>756.000000</td>\n",
       "      <td>756.000000</td>\n",
       "      <td>752</td>\n",
       "      <td>756</td>\n",
       "      <td>754</td>\n",
       "      <td>754</td>\n",
       "      <td>119</td>\n",
       "    </tr>\n",
       "    <tr>\n",
       "      <th>unique</th>\n",
       "      <td>NaN</td>\n",
       "      <td>12</td>\n",
       "      <td>32</td>\n",
       "      <td>546</td>\n",
       "      <td>15</td>\n",
       "      <td>15</td>\n",
       "      <td>15</td>\n",
       "      <td>2</td>\n",
       "      <td>3</td>\n",
       "      <td>NaN</td>\n",
       "      <td>15</td>\n",
       "      <td>NaN</td>\n",
       "      <td>NaN</td>\n",
       "      <td>226</td>\n",
       "      <td>41</td>\n",
       "      <td>61</td>\n",
       "      <td>65</td>\n",
       "      <td>25</td>\n",
       "    </tr>\n",
       "    <tr>\n",
       "      <th>top</th>\n",
       "      <td>NaN</td>\n",
       "      <td>IPL-2013</td>\n",
       "      <td>Mumbai</td>\n",
       "      <td>14-03-2010</td>\n",
       "      <td>Mumbai Indians</td>\n",
       "      <td>Royal Challengers Bangalore</td>\n",
       "      <td>Mumbai Indians</td>\n",
       "      <td>field</td>\n",
       "      <td>normal</td>\n",
       "      <td>NaN</td>\n",
       "      <td>Mumbai Indians</td>\n",
       "      <td>NaN</td>\n",
       "      <td>NaN</td>\n",
       "      <td>CH Gayle</td>\n",
       "      <td>Eden Gardens</td>\n",
       "      <td>HDPK Dharmasena</td>\n",
       "      <td>C Shamshuddin</td>\n",
       "      <td>C Shamshuddin</td>\n",
       "    </tr>\n",
       "    <tr>\n",
       "      <th>freq</th>\n",
       "      <td>NaN</td>\n",
       "      <td>76</td>\n",
       "      <td>101</td>\n",
       "      <td>2</td>\n",
       "      <td>101</td>\n",
       "      <td>95</td>\n",
       "      <td>98</td>\n",
       "      <td>463</td>\n",
       "      <td>743</td>\n",
       "      <td>NaN</td>\n",
       "      <td>109</td>\n",
       "      <td>NaN</td>\n",
       "      <td>NaN</td>\n",
       "      <td>21</td>\n",
       "      <td>77</td>\n",
       "      <td>73</td>\n",
       "      <td>57</td>\n",
       "      <td>10</td>\n",
       "    </tr>\n",
       "    <tr>\n",
       "      <th>mean</th>\n",
       "      <td>1792.178571</td>\n",
       "      <td>NaN</td>\n",
       "      <td>NaN</td>\n",
       "      <td>NaN</td>\n",
       "      <td>NaN</td>\n",
       "      <td>NaN</td>\n",
       "      <td>NaN</td>\n",
       "      <td>NaN</td>\n",
       "      <td>NaN</td>\n",
       "      <td>0.025132</td>\n",
       "      <td>NaN</td>\n",
       "      <td>13.283069</td>\n",
       "      <td>3.350529</td>\n",
       "      <td>NaN</td>\n",
       "      <td>NaN</td>\n",
       "      <td>NaN</td>\n",
       "      <td>NaN</td>\n",
       "      <td>NaN</td>\n",
       "    </tr>\n",
       "    <tr>\n",
       "      <th>std</th>\n",
       "      <td>3464.478148</td>\n",
       "      <td>NaN</td>\n",
       "      <td>NaN</td>\n",
       "      <td>NaN</td>\n",
       "      <td>NaN</td>\n",
       "      <td>NaN</td>\n",
       "      <td>NaN</td>\n",
       "      <td>NaN</td>\n",
       "      <td>NaN</td>\n",
       "      <td>0.156630</td>\n",
       "      <td>NaN</td>\n",
       "      <td>23.471144</td>\n",
       "      <td>3.387963</td>\n",
       "      <td>NaN</td>\n",
       "      <td>NaN</td>\n",
       "      <td>NaN</td>\n",
       "      <td>NaN</td>\n",
       "      <td>NaN</td>\n",
       "    </tr>\n",
       "    <tr>\n",
       "      <th>min</th>\n",
       "      <td>1.000000</td>\n",
       "      <td>NaN</td>\n",
       "      <td>NaN</td>\n",
       "      <td>NaN</td>\n",
       "      <td>NaN</td>\n",
       "      <td>NaN</td>\n",
       "      <td>NaN</td>\n",
       "      <td>NaN</td>\n",
       "      <td>NaN</td>\n",
       "      <td>0.000000</td>\n",
       "      <td>NaN</td>\n",
       "      <td>0.000000</td>\n",
       "      <td>0.000000</td>\n",
       "      <td>NaN</td>\n",
       "      <td>NaN</td>\n",
       "      <td>NaN</td>\n",
       "      <td>NaN</td>\n",
       "      <td>NaN</td>\n",
       "    </tr>\n",
       "    <tr>\n",
       "      <th>25%</th>\n",
       "      <td>189.750000</td>\n",
       "      <td>NaN</td>\n",
       "      <td>NaN</td>\n",
       "      <td>NaN</td>\n",
       "      <td>NaN</td>\n",
       "      <td>NaN</td>\n",
       "      <td>NaN</td>\n",
       "      <td>NaN</td>\n",
       "      <td>NaN</td>\n",
       "      <td>0.000000</td>\n",
       "      <td>NaN</td>\n",
       "      <td>0.000000</td>\n",
       "      <td>0.000000</td>\n",
       "      <td>NaN</td>\n",
       "      <td>NaN</td>\n",
       "      <td>NaN</td>\n",
       "      <td>NaN</td>\n",
       "      <td>NaN</td>\n",
       "    </tr>\n",
       "    <tr>\n",
       "      <th>50%</th>\n",
       "      <td>378.500000</td>\n",
       "      <td>NaN</td>\n",
       "      <td>NaN</td>\n",
       "      <td>NaN</td>\n",
       "      <td>NaN</td>\n",
       "      <td>NaN</td>\n",
       "      <td>NaN</td>\n",
       "      <td>NaN</td>\n",
       "      <td>NaN</td>\n",
       "      <td>0.000000</td>\n",
       "      <td>NaN</td>\n",
       "      <td>0.000000</td>\n",
       "      <td>4.000000</td>\n",
       "      <td>NaN</td>\n",
       "      <td>NaN</td>\n",
       "      <td>NaN</td>\n",
       "      <td>NaN</td>\n",
       "      <td>NaN</td>\n",
       "    </tr>\n",
       "    <tr>\n",
       "      <th>75%</th>\n",
       "      <td>567.250000</td>\n",
       "      <td>NaN</td>\n",
       "      <td>NaN</td>\n",
       "      <td>NaN</td>\n",
       "      <td>NaN</td>\n",
       "      <td>NaN</td>\n",
       "      <td>NaN</td>\n",
       "      <td>NaN</td>\n",
       "      <td>NaN</td>\n",
       "      <td>0.000000</td>\n",
       "      <td>NaN</td>\n",
       "      <td>19.000000</td>\n",
       "      <td>6.000000</td>\n",
       "      <td>NaN</td>\n",
       "      <td>NaN</td>\n",
       "      <td>NaN</td>\n",
       "      <td>NaN</td>\n",
       "      <td>NaN</td>\n",
       "    </tr>\n",
       "    <tr>\n",
       "      <th>max</th>\n",
       "      <td>11415.000000</td>\n",
       "      <td>NaN</td>\n",
       "      <td>NaN</td>\n",
       "      <td>NaN</td>\n",
       "      <td>NaN</td>\n",
       "      <td>NaN</td>\n",
       "      <td>NaN</td>\n",
       "      <td>NaN</td>\n",
       "      <td>NaN</td>\n",
       "      <td>1.000000</td>\n",
       "      <td>NaN</td>\n",
       "      <td>146.000000</td>\n",
       "      <td>10.000000</td>\n",
       "      <td>NaN</td>\n",
       "      <td>NaN</td>\n",
       "      <td>NaN</td>\n",
       "      <td>NaN</td>\n",
       "      <td>NaN</td>\n",
       "    </tr>\n",
       "  </tbody>\n",
       "</table>\n",
       "</div>"
      ],
      "text/plain": [
       "                  id    Season    city        date           team1  \\\n",
       "count     756.000000       756     749         756             756   \n",
       "unique           NaN        12      32         546              15   \n",
       "top              NaN  IPL-2013  Mumbai  14-03-2010  Mumbai Indians   \n",
       "freq             NaN        76     101           2             101   \n",
       "mean     1792.178571       NaN     NaN         NaN             NaN   \n",
       "std      3464.478148       NaN     NaN         NaN             NaN   \n",
       "min         1.000000       NaN     NaN         NaN             NaN   \n",
       "25%       189.750000       NaN     NaN         NaN             NaN   \n",
       "50%       378.500000       NaN     NaN         NaN             NaN   \n",
       "75%       567.250000       NaN     NaN         NaN             NaN   \n",
       "max     11415.000000       NaN     NaN         NaN             NaN   \n",
       "\n",
       "                              team2     toss_winner toss_decision  result  \\\n",
       "count                           756             756           756     756   \n",
       "unique                           15              15             2       3   \n",
       "top     Royal Challengers Bangalore  Mumbai Indians         field  normal   \n",
       "freq                             95              98           463     743   \n",
       "mean                            NaN             NaN           NaN     NaN   \n",
       "std                             NaN             NaN           NaN     NaN   \n",
       "min                             NaN             NaN           NaN     NaN   \n",
       "25%                             NaN             NaN           NaN     NaN   \n",
       "50%                             NaN             NaN           NaN     NaN   \n",
       "75%                             NaN             NaN           NaN     NaN   \n",
       "max                             NaN             NaN           NaN     NaN   \n",
       "\n",
       "        dl_applied          winner  win_by_runs  win_by_wickets  \\\n",
       "count   756.000000             752   756.000000      756.000000   \n",
       "unique         NaN              15          NaN             NaN   \n",
       "top            NaN  Mumbai Indians          NaN             NaN   \n",
       "freq           NaN             109          NaN             NaN   \n",
       "mean      0.025132             NaN    13.283069        3.350529   \n",
       "std       0.156630             NaN    23.471144        3.387963   \n",
       "min       0.000000             NaN     0.000000        0.000000   \n",
       "25%       0.000000             NaN     0.000000        0.000000   \n",
       "50%       0.000000             NaN     0.000000        4.000000   \n",
       "75%       0.000000             NaN    19.000000        6.000000   \n",
       "max       1.000000             NaN   146.000000       10.000000   \n",
       "\n",
       "       player_of_match         venue          umpire1        umpire2  \\\n",
       "count              752           756              754            754   \n",
       "unique             226            41               61             65   \n",
       "top           CH Gayle  Eden Gardens  HDPK Dharmasena  C Shamshuddin   \n",
       "freq                21            77               73             57   \n",
       "mean               NaN           NaN              NaN            NaN   \n",
       "std                NaN           NaN              NaN            NaN   \n",
       "min                NaN           NaN              NaN            NaN   \n",
       "25%                NaN           NaN              NaN            NaN   \n",
       "50%                NaN           NaN              NaN            NaN   \n",
       "75%                NaN           NaN              NaN            NaN   \n",
       "max                NaN           NaN              NaN            NaN   \n",
       "\n",
       "              umpire3  \n",
       "count             119  \n",
       "unique             25  \n",
       "top     C Shamshuddin  \n",
       "freq               10  \n",
       "mean              NaN  \n",
       "std               NaN  \n",
       "min               NaN  \n",
       "25%               NaN  \n",
       "50%               NaN  \n",
       "75%               NaN  \n",
       "max               NaN  "
      ]
     },
     "execution_count": 71,
     "metadata": {},
     "output_type": "execute_result"
    }
   ],
   "source": [
    "# statistical analysis of matches_df\n",
    "df_matches.describe(include='all')"
   ]
  },
  {
   "cell_type": "markdown",
   "metadata": {},
   "source": [
    "### Handling missing values"
   ]
  },
  {
   "cell_type": "code",
   "execution_count": 72,
   "metadata": {},
   "outputs": [
    {
     "data": {
      "text/plain": [
       "id                   0\n",
       "Season               0\n",
       "city                 7\n",
       "date                 0\n",
       "team1                0\n",
       "team2                0\n",
       "toss_winner          0\n",
       "toss_decision        0\n",
       "result               0\n",
       "dl_applied           0\n",
       "winner               4\n",
       "win_by_runs          0\n",
       "win_by_wickets       0\n",
       "player_of_match      4\n",
       "venue                0\n",
       "umpire1              2\n",
       "umpire2              2\n",
       "umpire3            637\n",
       "dtype: int64"
      ]
     },
     "execution_count": 72,
     "metadata": {},
     "output_type": "execute_result"
    }
   ],
   "source": [
    "# missing values in matches_df\n",
    "df_matches.isnull().sum() #df_matches"
   ]
  },
  {
   "cell_type": "markdown",
   "metadata": {},
   "source": [
    "- In matches data Columns \"city\", \"winner\", \"player_of_match\", \"umpire1\", \"umpire2\" have missing values.\n",
    "- \"umpire3\" column has maximum number of missing value present.\n",
    "- we will delete \"umpire3\""
   ]
  },
  {
   "cell_type": "code",
   "execution_count": 73,
   "metadata": {},
   "outputs": [],
   "source": [
    "# drop \"umpire3\" column\n",
    "df_matches.drop([\"umpire3\"],axis=1,inplace=True)"
   ]
  },
  {
   "cell_type": "markdown",
   "metadata": {},
   "source": [
    "###  Handling Missing Values in \"city\" column"
   ]
  },
  {
   "cell_type": "code",
   "execution_count": 75,
   "metadata": {},
   "outputs": [
    {
     "data": {
      "text/html": [
       "<div>\n",
       "<style scoped>\n",
       "    .dataframe tbody tr th:only-of-type {\n",
       "        vertical-align: middle;\n",
       "    }\n",
       "\n",
       "    .dataframe tbody tr th {\n",
       "        vertical-align: top;\n",
       "    }\n",
       "\n",
       "    .dataframe thead th {\n",
       "        text-align: right;\n",
       "    }\n",
       "</style>\n",
       "<table border=\"1\" class=\"dataframe\">\n",
       "  <thead>\n",
       "    <tr style=\"text-align: right;\">\n",
       "      <th></th>\n",
       "      <th>city</th>\n",
       "      <th>venue</th>\n",
       "    </tr>\n",
       "  </thead>\n",
       "  <tbody>\n",
       "    <tr>\n",
       "      <th>461</th>\n",
       "      <td>NaN</td>\n",
       "      <td>Dubai International Cricket Stadium</td>\n",
       "    </tr>\n",
       "    <tr>\n",
       "      <th>462</th>\n",
       "      <td>NaN</td>\n",
       "      <td>Dubai International Cricket Stadium</td>\n",
       "    </tr>\n",
       "    <tr>\n",
       "      <th>466</th>\n",
       "      <td>NaN</td>\n",
       "      <td>Dubai International Cricket Stadium</td>\n",
       "    </tr>\n",
       "    <tr>\n",
       "      <th>468</th>\n",
       "      <td>NaN</td>\n",
       "      <td>Dubai International Cricket Stadium</td>\n",
       "    </tr>\n",
       "    <tr>\n",
       "      <th>469</th>\n",
       "      <td>NaN</td>\n",
       "      <td>Dubai International Cricket Stadium</td>\n",
       "    </tr>\n",
       "    <tr>\n",
       "      <th>474</th>\n",
       "      <td>NaN</td>\n",
       "      <td>Dubai International Cricket Stadium</td>\n",
       "    </tr>\n",
       "    <tr>\n",
       "      <th>476</th>\n",
       "      <td>NaN</td>\n",
       "      <td>Dubai International Cricket Stadium</td>\n",
       "    </tr>\n",
       "  </tbody>\n",
       "</table>\n",
       "</div>"
      ],
      "text/plain": [
       "    city                                venue\n",
       "461  NaN  Dubai International Cricket Stadium\n",
       "462  NaN  Dubai International Cricket Stadium\n",
       "466  NaN  Dubai International Cricket Stadium\n",
       "468  NaN  Dubai International Cricket Stadium\n",
       "469  NaN  Dubai International Cricket Stadium\n",
       "474  NaN  Dubai International Cricket Stadium\n",
       "476  NaN  Dubai International Cricket Stadium"
      ]
     },
     "execution_count": 75,
     "metadata": {},
     "output_type": "execute_result"
    }
   ],
   "source": [
    "# finding the venue name of all missing value \"city\" \n",
    "df_matches[df_matches[\"city\"].isnull()][[\"city\",\"venue\"]]"
   ]
  },
  {
   "cell_type": "markdown",
   "metadata": {},
   "source": [
    "- missing values are from \"Dubai International Cricket Stadium\". So we can fill the missing value by \"Dubai\""
   ]
  },
  {
   "cell_type": "markdown",
   "metadata": {},
   "source": [
    "###  Handling Missing Values in \"umpire1\", \"umpire2\", \"player_of_match\" column"
   ]
  },
  {
   "cell_type": "code",
   "execution_count": 77,
   "metadata": {},
   "outputs": [
    {
     "data": {
      "text/html": [
       "<div>\n",
       "<style scoped>\n",
       "    .dataframe tbody tr th:only-of-type {\n",
       "        vertical-align: middle;\n",
       "    }\n",
       "\n",
       "    .dataframe tbody tr th {\n",
       "        vertical-align: top;\n",
       "    }\n",
       "\n",
       "    .dataframe thead th {\n",
       "        text-align: right;\n",
       "    }\n",
       "</style>\n",
       "<table border=\"1\" class=\"dataframe\">\n",
       "  <thead>\n",
       "    <tr style=\"text-align: right;\">\n",
       "      <th></th>\n",
       "      <th>id</th>\n",
       "      <th>Season</th>\n",
       "      <th>city</th>\n",
       "      <th>date</th>\n",
       "      <th>team1</th>\n",
       "      <th>team2</th>\n",
       "      <th>toss_winner</th>\n",
       "      <th>toss_decision</th>\n",
       "      <th>result</th>\n",
       "      <th>dl_applied</th>\n",
       "      <th>winner</th>\n",
       "      <th>win_by_runs</th>\n",
       "      <th>win_by_wickets</th>\n",
       "      <th>player_of_match</th>\n",
       "      <th>venue</th>\n",
       "      <th>umpire1</th>\n",
       "      <th>umpire2</th>\n",
       "    </tr>\n",
       "  </thead>\n",
       "  <tbody>\n",
       "    <tr>\n",
       "      <th>4</th>\n",
       "      <td>5</td>\n",
       "      <td>IPL-2017</td>\n",
       "      <td>Bangalore</td>\n",
       "      <td>08-04-2017</td>\n",
       "      <td>Royal Challengers Bangalore</td>\n",
       "      <td>Delhi Daredevils</td>\n",
       "      <td>Royal Challengers Bangalore</td>\n",
       "      <td>bat</td>\n",
       "      <td>normal</td>\n",
       "      <td>0</td>\n",
       "      <td>Royal Challengers Bangalore</td>\n",
       "      <td>15</td>\n",
       "      <td>0</td>\n",
       "      <td>KM Jadhav</td>\n",
       "      <td>M Chinnaswamy Stadium</td>\n",
       "      <td>NaN</td>\n",
       "      <td>NaN</td>\n",
       "    </tr>\n",
       "    <tr>\n",
       "      <th>300</th>\n",
       "      <td>301</td>\n",
       "      <td>IPL-2011</td>\n",
       "      <td>Delhi</td>\n",
       "      <td>21-05-2011</td>\n",
       "      <td>Delhi Daredevils</td>\n",
       "      <td>Pune Warriors</td>\n",
       "      <td>Delhi Daredevils</td>\n",
       "      <td>bat</td>\n",
       "      <td>no result</td>\n",
       "      <td>0</td>\n",
       "      <td>NaN</td>\n",
       "      <td>0</td>\n",
       "      <td>0</td>\n",
       "      <td>NaN</td>\n",
       "      <td>Feroz Shah Kotla</td>\n",
       "      <td>SS Hazare</td>\n",
       "      <td>RJ Tucker</td>\n",
       "    </tr>\n",
       "    <tr>\n",
       "      <th>545</th>\n",
       "      <td>546</td>\n",
       "      <td>IPL-2015</td>\n",
       "      <td>Bangalore</td>\n",
       "      <td>29-04-2015</td>\n",
       "      <td>Royal Challengers Bangalore</td>\n",
       "      <td>Rajasthan Royals</td>\n",
       "      <td>Rajasthan Royals</td>\n",
       "      <td>field</td>\n",
       "      <td>no result</td>\n",
       "      <td>0</td>\n",
       "      <td>NaN</td>\n",
       "      <td>0</td>\n",
       "      <td>0</td>\n",
       "      <td>NaN</td>\n",
       "      <td>M Chinnaswamy Stadium</td>\n",
       "      <td>JD Cloete</td>\n",
       "      <td>PG Pathak</td>\n",
       "    </tr>\n",
       "    <tr>\n",
       "      <th>570</th>\n",
       "      <td>571</td>\n",
       "      <td>IPL-2015</td>\n",
       "      <td>Bangalore</td>\n",
       "      <td>17-05-2015</td>\n",
       "      <td>Delhi Daredevils</td>\n",
       "      <td>Royal Challengers Bangalore</td>\n",
       "      <td>Royal Challengers Bangalore</td>\n",
       "      <td>field</td>\n",
       "      <td>no result</td>\n",
       "      <td>0</td>\n",
       "      <td>NaN</td>\n",
       "      <td>0</td>\n",
       "      <td>0</td>\n",
       "      <td>NaN</td>\n",
       "      <td>M Chinnaswamy Stadium</td>\n",
       "      <td>HDPK Dharmasena</td>\n",
       "      <td>K Srinivasan</td>\n",
       "    </tr>\n",
       "    <tr>\n",
       "      <th>744</th>\n",
       "      <td>11340</td>\n",
       "      <td>IPL-2019</td>\n",
       "      <td>Bengaluru</td>\n",
       "      <td>30-04-2019</td>\n",
       "      <td>Royal Challengers Bangalore</td>\n",
       "      <td>Rajasthan Royals</td>\n",
       "      <td>Rajasthan Royals</td>\n",
       "      <td>field</td>\n",
       "      <td>no result</td>\n",
       "      <td>0</td>\n",
       "      <td>NaN</td>\n",
       "      <td>0</td>\n",
       "      <td>0</td>\n",
       "      <td>NaN</td>\n",
       "      <td>M. Chinnaswamy Stadium</td>\n",
       "      <td>Nigel Llong</td>\n",
       "      <td>Ulhas Gandhe</td>\n",
       "    </tr>\n",
       "    <tr>\n",
       "      <th>753</th>\n",
       "      <td>11413</td>\n",
       "      <td>IPL-2019</td>\n",
       "      <td>Visakhapatnam</td>\n",
       "      <td>08-05-2019</td>\n",
       "      <td>Sunrisers Hyderabad</td>\n",
       "      <td>Delhi Capitals</td>\n",
       "      <td>Delhi Capitals</td>\n",
       "      <td>field</td>\n",
       "      <td>normal</td>\n",
       "      <td>0</td>\n",
       "      <td>Delhi Capitals</td>\n",
       "      <td>0</td>\n",
       "      <td>2</td>\n",
       "      <td>RR Pant</td>\n",
       "      <td>ACA-VDCA Stadium</td>\n",
       "      <td>NaN</td>\n",
       "      <td>NaN</td>\n",
       "    </tr>\n",
       "  </tbody>\n",
       "</table>\n",
       "</div>"
      ],
      "text/plain": [
       "        id    Season           city        date                        team1  \\\n",
       "4        5  IPL-2017      Bangalore  08-04-2017  Royal Challengers Bangalore   \n",
       "300    301  IPL-2011          Delhi  21-05-2011             Delhi Daredevils   \n",
       "545    546  IPL-2015      Bangalore  29-04-2015  Royal Challengers Bangalore   \n",
       "570    571  IPL-2015      Bangalore  17-05-2015             Delhi Daredevils   \n",
       "744  11340  IPL-2019      Bengaluru  30-04-2019  Royal Challengers Bangalore   \n",
       "753  11413  IPL-2019  Visakhapatnam  08-05-2019          Sunrisers Hyderabad   \n",
       "\n",
       "                           team2                  toss_winner toss_decision  \\\n",
       "4               Delhi Daredevils  Royal Challengers Bangalore           bat   \n",
       "300                Pune Warriors             Delhi Daredevils           bat   \n",
       "545             Rajasthan Royals             Rajasthan Royals         field   \n",
       "570  Royal Challengers Bangalore  Royal Challengers Bangalore         field   \n",
       "744             Rajasthan Royals             Rajasthan Royals         field   \n",
       "753               Delhi Capitals               Delhi Capitals         field   \n",
       "\n",
       "        result  dl_applied                       winner  win_by_runs  \\\n",
       "4       normal           0  Royal Challengers Bangalore           15   \n",
       "300  no result           0                          NaN            0   \n",
       "545  no result           0                          NaN            0   \n",
       "570  no result           0                          NaN            0   \n",
       "744  no result           0                          NaN            0   \n",
       "753     normal           0               Delhi Capitals            0   \n",
       "\n",
       "     win_by_wickets player_of_match                   venue          umpire1  \\\n",
       "4                 0       KM Jadhav   M Chinnaswamy Stadium              NaN   \n",
       "300               0             NaN        Feroz Shah Kotla        SS Hazare   \n",
       "545               0             NaN   M Chinnaswamy Stadium        JD Cloete   \n",
       "570               0             NaN   M Chinnaswamy Stadium  HDPK Dharmasena   \n",
       "744               0             NaN  M. Chinnaswamy Stadium      Nigel Llong   \n",
       "753               2         RR Pant        ACA-VDCA Stadium              NaN   \n",
       "\n",
       "          umpire2  \n",
       "4             NaN  \n",
       "300     RJ Tucker  \n",
       "545     PG Pathak  \n",
       "570  K Srinivasan  \n",
       "744  Ulhas Gandhe  \n",
       "753           NaN  "
      ]
     },
     "execution_count": 77,
     "metadata": {},
     "output_type": "execute_result"
    }
   ],
   "source": [
    "# rows having missing values\n",
    "df_matches[(df_matches[\"umpire1\"].isnull()) | (df_matches[\"umpire2\"].isnull()) | (df_matches[\"player_of_match\"].isnull())]"
   ]
  },
  {
   "cell_type": "code",
   "execution_count": 78,
   "metadata": {},
   "outputs": [],
   "source": [
    "# delete rows having missing value in columns 'umpire1', 'umpire2', 'player_of_match'.\n",
    "df_matches.dropna(subset=['umpire1', 'umpire2', 'player_of_match'],inplace=True)"
   ]
  },
  {
   "cell_type": "code",
   "execution_count": 79,
   "metadata": {},
   "outputs": [
    {
     "data": {
      "text/plain": [
       "(750, 17)"
      ]
     },
     "execution_count": 79,
     "metadata": {},
     "output_type": "execute_result"
    }
   ],
   "source": [
    "# shape of updated df_matches DataFrame\n",
    "df_matches.shape"
   ]
  },
  {
   "cell_type": "markdown",
   "metadata": {},
   "source": [
    "##  ***EDA of Deliveries Dataset***"
   ]
  },
  {
   "cell_type": "code",
   "execution_count": 81,
   "metadata": {},
   "outputs": [
    {
     "name": "stdout",
     "output_type": "stream",
     "text": [
      "<class 'pandas.core.frame.DataFrame'>\n",
      "RangeIndex: 179078 entries, 0 to 179077\n",
      "Data columns (total 21 columns):\n",
      " #   Column            Non-Null Count   Dtype \n",
      "---  ------            --------------   ----- \n",
      " 0   match_id          179078 non-null  int64 \n",
      " 1   inning            179078 non-null  int64 \n",
      " 2   batting_team      179078 non-null  object\n",
      " 3   bowling_team      179078 non-null  object\n",
      " 4   over              179078 non-null  int64 \n",
      " 5   ball              179078 non-null  int64 \n",
      " 6   batsman           179078 non-null  object\n",
      " 7   non_striker       179078 non-null  object\n",
      " 8   bowler            179078 non-null  object\n",
      " 9   is_super_over     179078 non-null  int64 \n",
      " 10  wide_runs         179078 non-null  int64 \n",
      " 11  bye_runs          179078 non-null  int64 \n",
      " 12  legbye_runs       179078 non-null  int64 \n",
      " 13  noball_runs       179078 non-null  int64 \n",
      " 14  penalty_runs      179078 non-null  int64 \n",
      " 15  batsman_runs      179078 non-null  int64 \n",
      " 16  extra_runs        179078 non-null  int64 \n",
      " 17  total_runs        179078 non-null  int64 \n",
      " 18  player_dismissed  8834 non-null    object\n",
      " 19  dismissal_kind    8834 non-null    object\n",
      " 20  fielder           6448 non-null    object\n",
      "dtypes: int64(13), object(8)\n",
      "memory usage: 28.7+ MB\n"
     ]
    }
   ],
   "source": [
    "df_deliveries.info()"
   ]
  },
  {
   "cell_type": "code",
   "execution_count": 82,
   "metadata": {},
   "outputs": [
    {
     "data": {
      "text/html": [
       "<div>\n",
       "<style scoped>\n",
       "    .dataframe tbody tr th:only-of-type {\n",
       "        vertical-align: middle;\n",
       "    }\n",
       "\n",
       "    .dataframe tbody tr th {\n",
       "        vertical-align: top;\n",
       "    }\n",
       "\n",
       "    .dataframe thead th {\n",
       "        text-align: right;\n",
       "    }\n",
       "</style>\n",
       "<table border=\"1\" class=\"dataframe\">\n",
       "  <thead>\n",
       "    <tr style=\"text-align: right;\">\n",
       "      <th></th>\n",
       "      <th>match_id</th>\n",
       "      <th>inning</th>\n",
       "      <th>over</th>\n",
       "      <th>ball</th>\n",
       "      <th>is_super_over</th>\n",
       "      <th>wide_runs</th>\n",
       "      <th>bye_runs</th>\n",
       "      <th>legbye_runs</th>\n",
       "      <th>noball_runs</th>\n",
       "      <th>penalty_runs</th>\n",
       "      <th>batsman_runs</th>\n",
       "      <th>extra_runs</th>\n",
       "      <th>total_runs</th>\n",
       "    </tr>\n",
       "  </thead>\n",
       "  <tbody>\n",
       "    <tr>\n",
       "      <th>count</th>\n",
       "      <td>179078.000000</td>\n",
       "      <td>179078.000000</td>\n",
       "      <td>179078.000000</td>\n",
       "      <td>179078.000000</td>\n",
       "      <td>179078.000000</td>\n",
       "      <td>179078.000000</td>\n",
       "      <td>179078.000000</td>\n",
       "      <td>179078.000000</td>\n",
       "      <td>179078.000000</td>\n",
       "      <td>179078.000000</td>\n",
       "      <td>179078.000000</td>\n",
       "      <td>179078.000000</td>\n",
       "      <td>179078.000000</td>\n",
       "    </tr>\n",
       "    <tr>\n",
       "      <th>mean</th>\n",
       "      <td>1802.252957</td>\n",
       "      <td>1.482952</td>\n",
       "      <td>10.162488</td>\n",
       "      <td>3.615587</td>\n",
       "      <td>0.000452</td>\n",
       "      <td>0.036721</td>\n",
       "      <td>0.004936</td>\n",
       "      <td>0.021136</td>\n",
       "      <td>0.004183</td>\n",
       "      <td>0.000056</td>\n",
       "      <td>1.246864</td>\n",
       "      <td>0.067032</td>\n",
       "      <td>1.313897</td>\n",
       "    </tr>\n",
       "    <tr>\n",
       "      <th>std</th>\n",
       "      <td>3472.322805</td>\n",
       "      <td>0.502074</td>\n",
       "      <td>5.677684</td>\n",
       "      <td>1.806966</td>\n",
       "      <td>0.021263</td>\n",
       "      <td>0.251161</td>\n",
       "      <td>0.116480</td>\n",
       "      <td>0.194908</td>\n",
       "      <td>0.070492</td>\n",
       "      <td>0.016709</td>\n",
       "      <td>1.608270</td>\n",
       "      <td>0.342553</td>\n",
       "      <td>1.605422</td>\n",
       "    </tr>\n",
       "    <tr>\n",
       "      <th>min</th>\n",
       "      <td>1.000000</td>\n",
       "      <td>1.000000</td>\n",
       "      <td>1.000000</td>\n",
       "      <td>1.000000</td>\n",
       "      <td>0.000000</td>\n",
       "      <td>0.000000</td>\n",
       "      <td>0.000000</td>\n",
       "      <td>0.000000</td>\n",
       "      <td>0.000000</td>\n",
       "      <td>0.000000</td>\n",
       "      <td>0.000000</td>\n",
       "      <td>0.000000</td>\n",
       "      <td>0.000000</td>\n",
       "    </tr>\n",
       "    <tr>\n",
       "      <th>25%</th>\n",
       "      <td>190.000000</td>\n",
       "      <td>1.000000</td>\n",
       "      <td>5.000000</td>\n",
       "      <td>2.000000</td>\n",
       "      <td>0.000000</td>\n",
       "      <td>0.000000</td>\n",
       "      <td>0.000000</td>\n",
       "      <td>0.000000</td>\n",
       "      <td>0.000000</td>\n",
       "      <td>0.000000</td>\n",
       "      <td>0.000000</td>\n",
       "      <td>0.000000</td>\n",
       "      <td>0.000000</td>\n",
       "    </tr>\n",
       "    <tr>\n",
       "      <th>50%</th>\n",
       "      <td>379.000000</td>\n",
       "      <td>1.000000</td>\n",
       "      <td>10.000000</td>\n",
       "      <td>4.000000</td>\n",
       "      <td>0.000000</td>\n",
       "      <td>0.000000</td>\n",
       "      <td>0.000000</td>\n",
       "      <td>0.000000</td>\n",
       "      <td>0.000000</td>\n",
       "      <td>0.000000</td>\n",
       "      <td>1.000000</td>\n",
       "      <td>0.000000</td>\n",
       "      <td>1.000000</td>\n",
       "    </tr>\n",
       "    <tr>\n",
       "      <th>75%</th>\n",
       "      <td>567.000000</td>\n",
       "      <td>2.000000</td>\n",
       "      <td>15.000000</td>\n",
       "      <td>5.000000</td>\n",
       "      <td>0.000000</td>\n",
       "      <td>0.000000</td>\n",
       "      <td>0.000000</td>\n",
       "      <td>0.000000</td>\n",
       "      <td>0.000000</td>\n",
       "      <td>0.000000</td>\n",
       "      <td>1.000000</td>\n",
       "      <td>0.000000</td>\n",
       "      <td>1.000000</td>\n",
       "    </tr>\n",
       "    <tr>\n",
       "      <th>max</th>\n",
       "      <td>11415.000000</td>\n",
       "      <td>5.000000</td>\n",
       "      <td>20.000000</td>\n",
       "      <td>9.000000</td>\n",
       "      <td>1.000000</td>\n",
       "      <td>5.000000</td>\n",
       "      <td>4.000000</td>\n",
       "      <td>5.000000</td>\n",
       "      <td>5.000000</td>\n",
       "      <td>5.000000</td>\n",
       "      <td>7.000000</td>\n",
       "      <td>7.000000</td>\n",
       "      <td>10.000000</td>\n",
       "    </tr>\n",
       "  </tbody>\n",
       "</table>\n",
       "</div>"
      ],
      "text/plain": [
       "            match_id         inning           over           ball  \\\n",
       "count  179078.000000  179078.000000  179078.000000  179078.000000   \n",
       "mean     1802.252957       1.482952      10.162488       3.615587   \n",
       "std      3472.322805       0.502074       5.677684       1.806966   \n",
       "min         1.000000       1.000000       1.000000       1.000000   \n",
       "25%       190.000000       1.000000       5.000000       2.000000   \n",
       "50%       379.000000       1.000000      10.000000       4.000000   \n",
       "75%       567.000000       2.000000      15.000000       5.000000   \n",
       "max     11415.000000       5.000000      20.000000       9.000000   \n",
       "\n",
       "       is_super_over      wide_runs       bye_runs    legbye_runs  \\\n",
       "count  179078.000000  179078.000000  179078.000000  179078.000000   \n",
       "mean        0.000452       0.036721       0.004936       0.021136   \n",
       "std         0.021263       0.251161       0.116480       0.194908   \n",
       "min         0.000000       0.000000       0.000000       0.000000   \n",
       "25%         0.000000       0.000000       0.000000       0.000000   \n",
       "50%         0.000000       0.000000       0.000000       0.000000   \n",
       "75%         0.000000       0.000000       0.000000       0.000000   \n",
       "max         1.000000       5.000000       4.000000       5.000000   \n",
       "\n",
       "         noball_runs   penalty_runs   batsman_runs     extra_runs  \\\n",
       "count  179078.000000  179078.000000  179078.000000  179078.000000   \n",
       "mean        0.004183       0.000056       1.246864       0.067032   \n",
       "std         0.070492       0.016709       1.608270       0.342553   \n",
       "min         0.000000       0.000000       0.000000       0.000000   \n",
       "25%         0.000000       0.000000       0.000000       0.000000   \n",
       "50%         0.000000       0.000000       1.000000       0.000000   \n",
       "75%         0.000000       0.000000       1.000000       0.000000   \n",
       "max         5.000000       5.000000       7.000000       7.000000   \n",
       "\n",
       "          total_runs  \n",
       "count  179078.000000  \n",
       "mean        1.313897  \n",
       "std         1.605422  \n",
       "min         0.000000  \n",
       "25%         0.000000  \n",
       "50%         1.000000  \n",
       "75%         1.000000  \n",
       "max        10.000000  "
      ]
     },
     "execution_count": 82,
     "metadata": {},
     "output_type": "execute_result"
    }
   ],
   "source": [
    "# statistical analysis of deliveries dataset\n",
    "deliveries_df.describe()"
   ]
  },
  {
   "cell_type": "markdown",
   "metadata": {},
   "source": [
    "### Handling Missing values"
   ]
  },
  {
   "cell_type": "code",
   "execution_count": 83,
   "metadata": {},
   "outputs": [
    {
     "data": {
      "text/plain": [
       "match_id                 0\n",
       "inning                   0\n",
       "batting_team             0\n",
       "bowling_team             0\n",
       "over                     0\n",
       "ball                     0\n",
       "batsman                  0\n",
       "non_striker              0\n",
       "bowler                   0\n",
       "is_super_over            0\n",
       "wide_runs                0\n",
       "bye_runs                 0\n",
       "legbye_runs              0\n",
       "noball_runs              0\n",
       "penalty_runs             0\n",
       "batsman_runs             0\n",
       "extra_runs               0\n",
       "total_runs               0\n",
       "player_dismissed    170244\n",
       "dismissal_kind      170244\n",
       "fielder             172630\n",
       "dtype: int64"
      ]
     },
     "execution_count": 83,
     "metadata": {},
     "output_type": "execute_result"
    }
   ],
   "source": [
    "# see how many missing value present each column\n",
    "deliveries_df.isnull().sum()"
   ]
  },
  {
   "cell_type": "code",
   "execution_count": 84,
   "metadata": {},
   "outputs": [],
   "source": [
    "# drop columns \"player_dismissed\",\"dismissal_kind\",\"fielder\" from the DataFrame\n",
    "deliveries_df.drop(columns=[\"player_dismissed\",\"dismissal_kind\",\"fielder\"],axis=1,inplace=True)"
   ]
  },
  {
   "cell_type": "code",
   "execution_count": 86,
   "metadata": {},
   "outputs": [
    {
     "data": {
      "text/plain": [
       "match_id         0\n",
       "inning           0\n",
       "batting_team     0\n",
       "bowling_team     0\n",
       "over             0\n",
       "ball             0\n",
       "batsman          0\n",
       "non_striker      0\n",
       "bowler           0\n",
       "is_super_over    0\n",
       "wide_runs        0\n",
       "bye_runs         0\n",
       "legbye_runs      0\n",
       "noball_runs      0\n",
       "penalty_runs     0\n",
       "batsman_runs     0\n",
       "extra_runs       0\n",
       "total_runs       0\n",
       "dtype: int64"
      ]
     },
     "execution_count": 86,
     "metadata": {},
     "output_type": "execute_result"
    }
   ],
   "source": [
    "# check for any missing value in deliveries_df\n",
    "deliveries_df.isnull().sum()"
   ]
  },
  {
   "cell_type": "code",
   "execution_count": 88,
   "metadata": {},
   "outputs": [
    {
     "data": {
      "text/html": [
       "<div>\n",
       "<style scoped>\n",
       "    .dataframe tbody tr th:only-of-type {\n",
       "        vertical-align: middle;\n",
       "    }\n",
       "\n",
       "    .dataframe tbody tr th {\n",
       "        vertical-align: top;\n",
       "    }\n",
       "\n",
       "    .dataframe thead th {\n",
       "        text-align: right;\n",
       "    }\n",
       "</style>\n",
       "<table border=\"1\" class=\"dataframe\">\n",
       "  <thead>\n",
       "    <tr style=\"text-align: right;\">\n",
       "      <th></th>\n",
       "      <th>id</th>\n",
       "      <th>Season</th>\n",
       "      <th>city</th>\n",
       "      <th>date</th>\n",
       "      <th>team1</th>\n",
       "      <th>team2</th>\n",
       "      <th>toss_winner</th>\n",
       "      <th>toss_decision</th>\n",
       "      <th>result</th>\n",
       "      <th>dl_applied</th>\n",
       "      <th>winner</th>\n",
       "      <th>win_by_runs</th>\n",
       "      <th>win_by_wickets</th>\n",
       "      <th>player_of_match</th>\n",
       "      <th>venue</th>\n",
       "      <th>umpire1</th>\n",
       "      <th>umpire2</th>\n",
       "    </tr>\n",
       "  </thead>\n",
       "  <tbody>\n",
       "    <tr>\n",
       "      <th>0</th>\n",
       "      <td>1</td>\n",
       "      <td>IPL-2017</td>\n",
       "      <td>Hyderabad</td>\n",
       "      <td>05-04-2017</td>\n",
       "      <td>Sunrisers Hyderabad</td>\n",
       "      <td>Royal Challengers Bangalore</td>\n",
       "      <td>Royal Challengers Bangalore</td>\n",
       "      <td>field</td>\n",
       "      <td>normal</td>\n",
       "      <td>0</td>\n",
       "      <td>Sunrisers Hyderabad</td>\n",
       "      <td>35</td>\n",
       "      <td>0</td>\n",
       "      <td>Yuvraj Singh</td>\n",
       "      <td>Rajiv Gandhi International Stadium, Uppal</td>\n",
       "      <td>AY Dandekar</td>\n",
       "      <td>NJ Llong</td>\n",
       "    </tr>\n",
       "    <tr>\n",
       "      <th>1</th>\n",
       "      <td>2</td>\n",
       "      <td>IPL-2017</td>\n",
       "      <td>Pune</td>\n",
       "      <td>06-04-2017</td>\n",
       "      <td>Mumbai Indians</td>\n",
       "      <td>Rising Pune Supergiant</td>\n",
       "      <td>Rising Pune Supergiant</td>\n",
       "      <td>field</td>\n",
       "      <td>normal</td>\n",
       "      <td>0</td>\n",
       "      <td>Rising Pune Supergiant</td>\n",
       "      <td>0</td>\n",
       "      <td>7</td>\n",
       "      <td>SPD Smith</td>\n",
       "      <td>Maharashtra Cricket Association Stadium</td>\n",
       "      <td>A Nand Kishore</td>\n",
       "      <td>S Ravi</td>\n",
       "    </tr>\n",
       "    <tr>\n",
       "      <th>2</th>\n",
       "      <td>3</td>\n",
       "      <td>IPL-2017</td>\n",
       "      <td>Rajkot</td>\n",
       "      <td>07-04-2017</td>\n",
       "      <td>Gujarat Lions</td>\n",
       "      <td>Kolkata Knight Riders</td>\n",
       "      <td>Kolkata Knight Riders</td>\n",
       "      <td>field</td>\n",
       "      <td>normal</td>\n",
       "      <td>0</td>\n",
       "      <td>Kolkata Knight Riders</td>\n",
       "      <td>0</td>\n",
       "      <td>10</td>\n",
       "      <td>CA Lynn</td>\n",
       "      <td>Saurashtra Cricket Association Stadium</td>\n",
       "      <td>Nitin Menon</td>\n",
       "      <td>CK Nandan</td>\n",
       "    </tr>\n",
       "    <tr>\n",
       "      <th>3</th>\n",
       "      <td>4</td>\n",
       "      <td>IPL-2017</td>\n",
       "      <td>Indore</td>\n",
       "      <td>08-04-2017</td>\n",
       "      <td>Rising Pune Supergiant</td>\n",
       "      <td>Kings XI Punjab</td>\n",
       "      <td>Kings XI Punjab</td>\n",
       "      <td>field</td>\n",
       "      <td>normal</td>\n",
       "      <td>0</td>\n",
       "      <td>Kings XI Punjab</td>\n",
       "      <td>0</td>\n",
       "      <td>6</td>\n",
       "      <td>GJ Maxwell</td>\n",
       "      <td>Holkar Cricket Stadium</td>\n",
       "      <td>AK Chaudhary</td>\n",
       "      <td>C Shamshuddin</td>\n",
       "    </tr>\n",
       "    <tr>\n",
       "      <th>5</th>\n",
       "      <td>6</td>\n",
       "      <td>IPL-2017</td>\n",
       "      <td>Hyderabad</td>\n",
       "      <td>09-04-2017</td>\n",
       "      <td>Gujarat Lions</td>\n",
       "      <td>Sunrisers Hyderabad</td>\n",
       "      <td>Sunrisers Hyderabad</td>\n",
       "      <td>field</td>\n",
       "      <td>normal</td>\n",
       "      <td>0</td>\n",
       "      <td>Sunrisers Hyderabad</td>\n",
       "      <td>0</td>\n",
       "      <td>9</td>\n",
       "      <td>Rashid Khan</td>\n",
       "      <td>Rajiv Gandhi International Stadium, Uppal</td>\n",
       "      <td>A Deshmukh</td>\n",
       "      <td>NJ Llong</td>\n",
       "    </tr>\n",
       "  </tbody>\n",
       "</table>\n",
       "</div>"
      ],
      "text/plain": [
       "   id    Season       city        date                   team1  \\\n",
       "0   1  IPL-2017  Hyderabad  05-04-2017     Sunrisers Hyderabad   \n",
       "1   2  IPL-2017       Pune  06-04-2017          Mumbai Indians   \n",
       "2   3  IPL-2017     Rajkot  07-04-2017           Gujarat Lions   \n",
       "3   4  IPL-2017     Indore  08-04-2017  Rising Pune Supergiant   \n",
       "5   6  IPL-2017  Hyderabad  09-04-2017           Gujarat Lions   \n",
       "\n",
       "                         team2                  toss_winner toss_decision  \\\n",
       "0  Royal Challengers Bangalore  Royal Challengers Bangalore         field   \n",
       "1       Rising Pune Supergiant       Rising Pune Supergiant         field   \n",
       "2        Kolkata Knight Riders        Kolkata Knight Riders         field   \n",
       "3              Kings XI Punjab              Kings XI Punjab         field   \n",
       "5          Sunrisers Hyderabad          Sunrisers Hyderabad         field   \n",
       "\n",
       "   result  dl_applied                  winner  win_by_runs  win_by_wickets  \\\n",
       "0  normal           0     Sunrisers Hyderabad           35               0   \n",
       "1  normal           0  Rising Pune Supergiant            0               7   \n",
       "2  normal           0   Kolkata Knight Riders            0              10   \n",
       "3  normal           0         Kings XI Punjab            0               6   \n",
       "5  normal           0     Sunrisers Hyderabad            0               9   \n",
       "\n",
       "  player_of_match                                      venue         umpire1  \\\n",
       "0    Yuvraj Singh  Rajiv Gandhi International Stadium, Uppal     AY Dandekar   \n",
       "1       SPD Smith    Maharashtra Cricket Association Stadium  A Nand Kishore   \n",
       "2         CA Lynn     Saurashtra Cricket Association Stadium     Nitin Menon   \n",
       "3      GJ Maxwell                     Holkar Cricket Stadium    AK Chaudhary   \n",
       "5     Rashid Khan  Rajiv Gandhi International Stadium, Uppal      A Deshmukh   \n",
       "\n",
       "         umpire2  \n",
       "0       NJ Llong  \n",
       "1         S Ravi  \n",
       "2      CK Nandan  \n",
       "3  C Shamshuddin  \n",
       "5       NJ Llong  "
      ]
     },
     "execution_count": 88,
     "metadata": {},
     "output_type": "execute_result"
    }
   ],
   "source": [
    "df_matches.head()"
   ]
  },
  {
   "cell_type": "code",
   "execution_count": 87,
   "metadata": {},
   "outputs": [
    {
     "data": {
      "text/html": [
       "<div>\n",
       "<style scoped>\n",
       "    .dataframe tbody tr th:only-of-type {\n",
       "        vertical-align: middle;\n",
       "    }\n",
       "\n",
       "    .dataframe tbody tr th {\n",
       "        vertical-align: top;\n",
       "    }\n",
       "\n",
       "    .dataframe thead th {\n",
       "        text-align: right;\n",
       "    }\n",
       "</style>\n",
       "<table border=\"1\" class=\"dataframe\">\n",
       "  <thead>\n",
       "    <tr style=\"text-align: right;\">\n",
       "      <th></th>\n",
       "      <th>id</th>\n",
       "      <th>Season</th>\n",
       "      <th>city</th>\n",
       "      <th>date</th>\n",
       "      <th>team1</th>\n",
       "      <th>team2</th>\n",
       "      <th>toss_winner</th>\n",
       "      <th>toss_decision</th>\n",
       "      <th>result</th>\n",
       "      <th>dl_applied</th>\n",
       "      <th>winner</th>\n",
       "      <th>win_by_runs</th>\n",
       "      <th>win_by_wickets</th>\n",
       "      <th>player_of_match</th>\n",
       "      <th>venue</th>\n",
       "      <th>umpire1</th>\n",
       "      <th>umpire2</th>\n",
       "    </tr>\n",
       "  </thead>\n",
       "  <tbody>\n",
       "    <tr>\n",
       "      <th>750</th>\n",
       "      <td>11346</td>\n",
       "      <td>IPL-2019</td>\n",
       "      <td>Mohali</td>\n",
       "      <td>05-05-2019</td>\n",
       "      <td>Chennai Super Kings</td>\n",
       "      <td>Kings XI Punjab</td>\n",
       "      <td>Kings XI Punjab</td>\n",
       "      <td>field</td>\n",
       "      <td>normal</td>\n",
       "      <td>0</td>\n",
       "      <td>Kings XI Punjab</td>\n",
       "      <td>0</td>\n",
       "      <td>6</td>\n",
       "      <td>KL Rahul</td>\n",
       "      <td>IS Bindra Stadium</td>\n",
       "      <td>KN Ananthapadmanabhan</td>\n",
       "      <td>C Shamshuddin</td>\n",
       "    </tr>\n",
       "    <tr>\n",
       "      <th>751</th>\n",
       "      <td>11347</td>\n",
       "      <td>IPL-2019</td>\n",
       "      <td>Mumbai</td>\n",
       "      <td>05-05-2019</td>\n",
       "      <td>Kolkata Knight Riders</td>\n",
       "      <td>Mumbai Indians</td>\n",
       "      <td>Mumbai Indians</td>\n",
       "      <td>field</td>\n",
       "      <td>normal</td>\n",
       "      <td>0</td>\n",
       "      <td>Mumbai Indians</td>\n",
       "      <td>0</td>\n",
       "      <td>9</td>\n",
       "      <td>HH Pandya</td>\n",
       "      <td>Wankhede Stadium</td>\n",
       "      <td>Nanda Kishore</td>\n",
       "      <td>O Nandan</td>\n",
       "    </tr>\n",
       "    <tr>\n",
       "      <th>752</th>\n",
       "      <td>11412</td>\n",
       "      <td>IPL-2019</td>\n",
       "      <td>Chennai</td>\n",
       "      <td>07-05-2019</td>\n",
       "      <td>Chennai Super Kings</td>\n",
       "      <td>Mumbai Indians</td>\n",
       "      <td>Chennai Super Kings</td>\n",
       "      <td>bat</td>\n",
       "      <td>normal</td>\n",
       "      <td>0</td>\n",
       "      <td>Mumbai Indians</td>\n",
       "      <td>0</td>\n",
       "      <td>6</td>\n",
       "      <td>AS Yadav</td>\n",
       "      <td>M. A. Chidambaram Stadium</td>\n",
       "      <td>Nigel Llong</td>\n",
       "      <td>Nitin Menon</td>\n",
       "    </tr>\n",
       "    <tr>\n",
       "      <th>754</th>\n",
       "      <td>11414</td>\n",
       "      <td>IPL-2019</td>\n",
       "      <td>Visakhapatnam</td>\n",
       "      <td>10-05-2019</td>\n",
       "      <td>Delhi Capitals</td>\n",
       "      <td>Chennai Super Kings</td>\n",
       "      <td>Chennai Super Kings</td>\n",
       "      <td>field</td>\n",
       "      <td>normal</td>\n",
       "      <td>0</td>\n",
       "      <td>Chennai Super Kings</td>\n",
       "      <td>0</td>\n",
       "      <td>6</td>\n",
       "      <td>F du Plessis</td>\n",
       "      <td>ACA-VDCA Stadium</td>\n",
       "      <td>Sundaram Ravi</td>\n",
       "      <td>Bruce Oxenford</td>\n",
       "    </tr>\n",
       "    <tr>\n",
       "      <th>755</th>\n",
       "      <td>11415</td>\n",
       "      <td>IPL-2019</td>\n",
       "      <td>Hyderabad</td>\n",
       "      <td>12-05-2019</td>\n",
       "      <td>Mumbai Indians</td>\n",
       "      <td>Chennai Super Kings</td>\n",
       "      <td>Mumbai Indians</td>\n",
       "      <td>bat</td>\n",
       "      <td>normal</td>\n",
       "      <td>0</td>\n",
       "      <td>Mumbai Indians</td>\n",
       "      <td>1</td>\n",
       "      <td>0</td>\n",
       "      <td>JJ Bumrah</td>\n",
       "      <td>Rajiv Gandhi Intl. Cricket Stadium</td>\n",
       "      <td>Nitin Menon</td>\n",
       "      <td>Ian Gould</td>\n",
       "    </tr>\n",
       "  </tbody>\n",
       "</table>\n",
       "</div>"
      ],
      "text/plain": [
       "        id    Season           city        date                  team1  \\\n",
       "750  11346  IPL-2019         Mohali  05-05-2019    Chennai Super Kings   \n",
       "751  11347  IPL-2019         Mumbai  05-05-2019  Kolkata Knight Riders   \n",
       "752  11412  IPL-2019        Chennai  07-05-2019    Chennai Super Kings   \n",
       "754  11414  IPL-2019  Visakhapatnam  10-05-2019         Delhi Capitals   \n",
       "755  11415  IPL-2019      Hyderabad  12-05-2019         Mumbai Indians   \n",
       "\n",
       "                   team2          toss_winner toss_decision  result  \\\n",
       "750      Kings XI Punjab      Kings XI Punjab         field  normal   \n",
       "751       Mumbai Indians       Mumbai Indians         field  normal   \n",
       "752       Mumbai Indians  Chennai Super Kings           bat  normal   \n",
       "754  Chennai Super Kings  Chennai Super Kings         field  normal   \n",
       "755  Chennai Super Kings       Mumbai Indians           bat  normal   \n",
       "\n",
       "     dl_applied               winner  win_by_runs  win_by_wickets  \\\n",
       "750           0      Kings XI Punjab            0               6   \n",
       "751           0       Mumbai Indians            0               9   \n",
       "752           0       Mumbai Indians            0               6   \n",
       "754           0  Chennai Super Kings            0               6   \n",
       "755           0       Mumbai Indians            1               0   \n",
       "\n",
       "    player_of_match                               venue  \\\n",
       "750        KL Rahul                   IS Bindra Stadium   \n",
       "751       HH Pandya                    Wankhede Stadium   \n",
       "752        AS Yadav           M. A. Chidambaram Stadium   \n",
       "754    F du Plessis                    ACA-VDCA Stadium   \n",
       "755       JJ Bumrah  Rajiv Gandhi Intl. Cricket Stadium   \n",
       "\n",
       "                   umpire1         umpire2  \n",
       "750  KN Ananthapadmanabhan   C Shamshuddin  \n",
       "751          Nanda Kishore        O Nandan  \n",
       "752            Nigel Llong     Nitin Menon  \n",
       "754          Sundaram Ravi  Bruce Oxenford  \n",
       "755            Nitin Menon       Ian Gould  "
      ]
     },
     "execution_count": 87,
     "metadata": {},
     "output_type": "execute_result"
    }
   ],
   "source": [
    "df_matches.tail()"
   ]
  },
  {
   "cell_type": "code",
   "execution_count": null,
   "metadata": {},
   "outputs": [],
   "source": []
  },
  {
   "cell_type": "markdown",
   "metadata": {
    "execution": {
     "iopub.execute_input": "2021-06-22T09:02:45.248697Z",
     "iopub.status.busy": "2021-06-22T09:02:45.248341Z",
     "iopub.status.idle": "2021-06-22T09:02:45.252586Z",
     "shell.execute_reply": "2021-06-22T09:02:45.251462Z",
     "shell.execute_reply.started": "2021-06-22T09:02:45.248665Z"
    },
    "papermill": {
     "duration": 0.019455,
     "end_time": "2021-07-16T09:15:00.395061",
     "exception": false,
     "start_time": "2021-07-16T09:15:00.375606",
     "status": "completed"
    },
    "tags": []
   },
   "source": [
    "### ***5. VISUALIZATIONS***"
   ]
  },
  {
   "cell_type": "markdown",
   "metadata": {},
   "source": [
    "### Number of Teams Participated Each Season"
   ]
  },
  {
   "cell_type": "code",
   "execution_count": 89,
   "metadata": {},
   "outputs": [
    {
     "data": {
      "text/plain": [
       "(array([ 0.,  2.,  4.,  6.,  8., 10., 12.]),\n",
       " <a list of 7 Text yticklabel objects>)"
      ]
     },
     "execution_count": 89,
     "metadata": {},
     "output_type": "execute_result"
    },
    {
     "data": {
      "image/png": "[encoded data removed]",
      "text/plain": [
       "<Figure size 1080x360 with 1 Axes>"
      ]
     },
     "metadata": {},
     "output_type": "display_data"
    }
   ],
   "source": [
    "df_matches.groupby('Season')['team1'].nunique().plot(kind = 'bar', figsize=(15,5),color = 'c')\n",
    "plt.title(\"Number of teams participated each season \",fontsize=18,fontweight=\"bold\")\n",
    "plt.ylabel(\"Count of teams\", size = 25)\n",
    "plt.xlabel(\"Season\", size = 25)\n",
    "plt.xticks(size = 15)\n",
    "plt.yticks(size = 15)"
   ]
  },
  {
   "cell_type": "markdown",
   "metadata": {
    "papermill": {
     "duration": 0.020669,
     "end_time": "2021-07-16T09:15:00.436510",
     "exception": false,
     "start_time": "2021-07-16T09:15:00.415841",
     "status": "completed"
    },
    "tags": []
   },
   "source": [
    "### **Number of matches played in each IPL season**"
   ]
  },
  {
   "cell_type": "code",
   "execution_count": 23,
   "metadata": {
    "execution": {
     "iopub.execute_input": "2021-07-16T09:15:00.488016Z",
     "iopub.status.busy": "2021-07-16T09:15:00.486258Z",
     "iopub.status.idle": "2021-07-16T09:15:00.803750Z",
     "shell.execute_reply": "2021-07-16T09:15:00.803221Z",
     "shell.execute_reply.started": "2021-07-16T09:13:55.375682Z"
    },
    "papermill": {
     "duration": 0.347443,
     "end_time": "2021-07-16T09:15:00.803891",
     "exception": false,
     "start_time": "2021-07-16T09:15:00.456448",
     "status": "completed"
    },
    "tags": []
   },
   "outputs": [
    {
     "data": {
      "text/plain": [
       "Text(0.5, 1.0, 'Number of matches played in each IPL season')"
      ]
     },
     "execution_count": 23,
     "metadata": {},
     "output_type": "execute_result"
    },
    {
     "data": {
      "image/png": "[encoded data removed]",
      "text/plain": [
       "<Figure size 1080x504 with 1 Axes>"
      ]
     },
     "metadata": {},
     "output_type": "display_data"
    }
   ],
   "source": [
    "plt.figure(figsize=(15,7))\n",
    "sns.countplot(x='Season',data=df_matches, order = df_matches['Season'].value_counts().index.sort_values() )\n",
    "plt.xlabel('Season',fontsize=12)\n",
    "plt.ylabel('No: of matches',fontsize=12)\n",
    "plt.title('Number of matches played in each IPL season',fontsize=16)"
   ]
  },
  {
   "cell_type": "markdown",
   "metadata": {
    "papermill": {
     "duration": 0.02283,
     "end_time": "2021-07-16T09:15:00.892796",
     "exception": false,
     "start_time": "2021-07-16T09:15:00.869966",
     "status": "completed"
    },
    "tags": []
   },
   "source": [
    "### **Matches won by the Teams**"
   ]
  },
  {
   "cell_type": "code",
   "execution_count": 91,
   "metadata": {
    "execution": {
     "iopub.execute_input": "2021-07-16T09:15:00.947176Z",
     "iopub.status.busy": "2021-07-16T09:15:00.946555Z",
     "iopub.status.idle": "2021-07-16T09:15:01.236165Z",
     "shell.execute_reply": "2021-07-16T09:15:01.235654Z",
     "shell.execute_reply.started": "2021-07-16T09:13:55.668658Z"
    },
    "papermill": {
     "duration": 0.321289,
     "end_time": "2021-07-16T09:15:01.236308",
     "exception": false,
     "start_time": "2021-07-16T09:15:00.915019",
     "status": "completed"
    },
    "tags": []
   },
   "outputs": [
    {
     "data": {
      "text/plain": [
       "Text(0.5, 1.0, 'Matches won by the Teams')"
      ]
     },
     "execution_count": 91,
     "metadata": {},
     "output_type": "execute_result"
    },
    {
     "data": {
      "image/png": "[encoded data removed]",
      "text/plain": [
       "<Figure size 1008x648 with 1 Axes>"
      ]
     },
     "metadata": {},
     "output_type": "display_data"
    }
   ],
   "source": [
    "# Matches won by the Teams\n",
    "plt.figure(figsize = (14,9))\n",
    "sns.countplot(y = 'winner',data = df_matches, order= df_matches['winner'].value_counts().index, palette = 'husl' )\n",
    "plt.xlabel('No: of Wins',fontsize=12)\n",
    "plt.ylabel('Team',fontsize=12)\n",
    "plt.title('Matches won by the Teams',fontsize=16)"
   ]
  },
  {
   "cell_type": "markdown",
   "metadata": {
    "papermill": {
     "duration": 0.023473,
     "end_time": "2021-07-16T09:15:01.330875",
     "exception": false,
     "start_time": "2021-07-16T09:15:01.307402",
     "status": "completed"
    },
    "tags": []
   },
   "source": [
    " ### **No of matches played in stadium, Top 10**"
   ]
  },
  {
   "cell_type": "code",
   "execution_count": 38,
   "metadata": {
    "execution": {
     "iopub.execute_input": "2021-07-16T09:15:01.388419Z",
     "iopub.status.busy": "2021-07-16T09:15:01.387425Z",
     "iopub.status.idle": "2021-07-16T09:15:01.661915Z",
     "shell.execute_reply": "2021-07-16T09:15:01.661413Z",
     "shell.execute_reply.started": "2021-07-16T09:13:55.947554Z"
    },
    "papermill": {
     "duration": 0.307512,
     "end_time": "2021-07-16T09:15:01.662049",
     "exception": false,
     "start_time": "2021-07-16T09:15:01.354537",
     "status": "completed"
    },
    "tags": []
   },
   "outputs": [
    {
     "data": {
      "text/plain": [
       "Text(0.5, 1.0, 'Number of matches played in each Stadium')"
      ]
     },
     "execution_count": 38,
     "metadata": {},
     "output_type": "execute_result"
    },
    {
     "data": {
      "image/png": "[encoded data removed]",
      "text/plain": [
       "<Figure size 864x576 with 1 Axes>"
      ]
     },
     "metadata": {},
     "output_type": "display_data"
    }
   ],
   "source": [
    "plt.figure(figsize = (12,8))\n",
    "sns.countplot(y = 'venue', data = df_matches, order = df_matches['venue'].value_counts().iloc[:10].index, palette='viridis')\n",
    "plt.xlabel('No: of matches',fontsize=12)\n",
    "plt.ylabel('Venue',fontsize=12)\n",
    "plt.title('Number of matches played in each Stadium',fontsize=16)"
   ]
  },
  {
   "cell_type": "markdown",
   "metadata": {
    "papermill": {
     "duration": 0.025182,
     "end_time": "2021-07-16T09:15:01.763249",
     "exception": false,
     "start_time": "2021-07-16T09:15:01.738067",
     "status": "completed"
    },
    "tags": []
   },
   "source": [
    " ### ****Toss Decision****"
   ]
  },
  {
   "cell_type": "code",
   "execution_count": 120,
   "metadata": {
    "execution": {
     "iopub.execute_input": "2021-07-16T09:15:01.851940Z",
     "iopub.status.busy": "2021-07-16T09:15:01.833621Z",
     "iopub.status.idle": "2021-07-16T09:15:01.923026Z",
     "shell.execute_reply": "2021-07-16T09:15:01.923486Z",
     "shell.execute_reply.started": "2021-07-16T09:13:56.226032Z"
    },
    "papermill": {
     "duration": 0.13475,
     "end_time": "2021-07-16T09:15:01.923639",
     "exception": false,
     "start_time": "2021-07-16T09:15:01.788889",
     "status": "completed"
    },
    "tags": []
   },
   "outputs": [
    {
     "data": {
      "text/plain": [
       "<matplotlib.patches.Circle at 0x240c0556848>"
      ]
     },
     "execution_count": 120,
     "metadata": {},
     "output_type": "execute_result"
    },
    {
     "data": {
      "image/png": "[encoded data removed]",
      "text/plain": [
       "<Figure size 432x432 with 1 Axes>"
      ]
     },
     "metadata": {},
     "output_type": "display_data"
    }
   ],
   "source": [
    "plt.figure(figsize=(6,6))\n",
    "sizes = df_matches.toss_decision.value_counts()\n",
    "labels = df_matches.toss_decision.value_counts().index\n",
    "plt.pie(sizes,colors = ['#FFBF00','#40E0D0'],\n",
    "         labels=labels,\n",
    "         autopct='%1.1f%%',\n",
    "         startangle=90,\n",
    "         pctdistance=0.75,\n",
    "         explode = (0.025,0.025))\n",
    "\n",
    "#inserting white circle\n",
    "centre_circle = plt.Circle((0,0),0.60,fc='white')\n",
    "fig = plt.gcf()\n",
    "fig.gca().add_artist(centre_circle)"
   ]
  },
  {
   "cell_type": "markdown",
   "metadata": {
    "papermill": {
     "duration": 0.026196,
     "end_time": "2021-07-16T09:15:02.029586",
     "exception": false,
     "start_time": "2021-07-16T09:15:02.003390",
     "status": "completed"
    },
    "tags": []
   },
   "source": [
    "### **Toss Decision to field or bat in each IPL season**"
   ]
  },
  {
   "cell_type": "code",
   "execution_count": 43,
   "metadata": {
    "execution": {
     "iopub.execute_input": "2021-07-16T09:15:02.093433Z",
     "iopub.status.busy": "2021-07-16T09:15:02.092776Z",
     "iopub.status.idle": "2021-07-16T09:15:02.402855Z",
     "shell.execute_reply": "2021-07-16T09:15:02.403293Z",
     "shell.execute_reply.started": "2021-07-16T09:13:56.327586Z"
    },
    "papermill": {
     "duration": 0.347585,
     "end_time": "2021-07-16T09:15:02.403469",
     "exception": false,
     "start_time": "2021-07-16T09:15:02.055884",
     "status": "completed"
    },
    "tags": []
   },
   "outputs": [
    {
     "data": {
      "text/plain": [
       "Text(0.5, 1.0, 'Decision to field or bat in each IPL season')"
      ]
     },
     "execution_count": 43,
     "metadata": {},
     "output_type": "execute_result"
    },
    {
     "data": {
      "image/png": "[encoded data removed]",
      "text/plain": [
       "<Figure size 1080x648 with 1 Axes>"
      ]
     },
     "metadata": {},
     "output_type": "display_data"
    }
   ],
   "source": [
    "plt.figure(figsize=(15,9))\n",
    "sns.countplot(x='Season', hue='toss_decision', data=df_matches, \n",
    "              order = df_matches['Season'].value_counts().index.sort_values(),\n",
    "              palette='tab10')\n",
    "plt.xlabel('Season',fontsize=12)\n",
    "plt.ylabel('Count',fontsize=12)\n",
    "plt.title('Decision to field or bat in each IPL season', fontsize=16)"
   ]
  },
  {
   "cell_type": "markdown",
   "metadata": {},
   "source": [
    "### Individual teams decision to choose bat first or second after winning toss"
   ]
  },
  {
   "cell_type": "code",
   "execution_count": 93,
   "metadata": {},
   "outputs": [
    {
     "data": {
      "text/plain": [
       "Text(0, 0.5, 'Count')"
      ]
     },
     "execution_count": 93,
     "metadata": {},
     "output_type": "execute_result"
    },
    {
     "data": {
      "image/png": "[encoded data removed]",
      "text/plain": [
       "<Figure size 1800x720 with 1 Axes>"
      ]
     },
     "metadata": {},
     "output_type": "display_data"
    }
   ],
   "source": [
    "plt.figure(figsize = (25,10))\n",
    "sns.countplot('toss_winner', data = df_matches, hue = 'toss_decision')\n",
    "plt.title(\"Teams decision to bat first or second after winning toss\", size = 30, fontweight = 'bold')\n",
    "plt.xlabel(\"Toss Winner\", size = 35)\n",
    "plt.ylabel(\"Count\", size = 35)"
   ]
  },
  {
   "cell_type": "markdown",
   "metadata": {
    "papermill": {
     "duration": 0.028121,
     "end_time": "2021-07-16T09:15:02.515844",
     "exception": false,
     "start_time": "2021-07-16T09:15:02.487723",
     "status": "completed"
    },
    "tags": []
   },
   "source": [
    "### **Player of the Match**"
   ]
  },
  {
   "cell_type": "code",
   "execution_count": 39,
   "metadata": {
    "execution": {
     "iopub.execute_input": "2021-07-16T09:15:02.579891Z",
     "iopub.status.busy": "2021-07-16T09:15:02.579240Z",
     "iopub.status.idle": "2021-07-16T09:15:02.831776Z",
     "shell.execute_reply": "2021-07-16T09:15:02.831204Z",
     "shell.execute_reply.started": "2021-07-16T09:13:56.645494Z"
    },
    "papermill": {
     "duration": 0.288149,
     "end_time": "2021-07-16T09:15:02.831912",
     "exception": false,
     "start_time": "2021-07-16T09:15:02.543763",
     "status": "completed"
    },
    "tags": []
   },
   "outputs": [
    {
     "data": {
      "text/plain": [
       "Text(0, 0.5, 'Count')"
      ]
     },
     "execution_count": 39,
     "metadata": {},
     "output_type": "execute_result"
    },
    {
     "data": {
      "image/png": "[encoded data removed]",
      "text/plain": [
       "<Figure size 1080x504 with 1 Axes>"
      ]
     },
     "metadata": {},
     "output_type": "display_data"
    }
   ],
   "source": [
    "plt.figure(figsize=(15,7))\n",
    "player_of_match=df_matches['player_of_match'].value_counts()[:10]\n",
    "sns.barplot(player_of_match.index,player_of_match.values,palette='rocket_r')\n",
    "\n",
    "plt.title(\"Player of the Match\",fontsize=15)\n",
    "plt.xlabel('Player',fontsize=12)\n",
    "plt.ylabel('Count',fontsize=12)"
   ]
  },
  {
   "cell_type": "markdown",
   "metadata": {},
   "source": [
    "### Top Run Getters of IPL"
   ]
  },
  {
   "cell_type": "code",
   "execution_count": 117,
   "metadata": {},
   "outputs": [
    {
     "data": {
      "text/plain": [
       "Text(0, 0.5, 'Total Runs Scored')"
      ]
     },
     "execution_count": 117,
     "metadata": {},
     "output_type": "execute_result"
    },
    {
     "data": {
      "image/png": "[encoded data removed]",
      "text/plain": [
       "<Figure size 1080x360 with 1 Axes>"
      ]
     },
     "metadata": {},
     "output_type": "display_data"
    }
   ],
   "source": [
    "df_merge.groupby('batsman')['batsman_runs'].sum().sort_values(ascending = False).head(10).plot(kind = 'bar', color = 'grey',\n",
    "                                                                                            figsize = (15,5))\n",
    "plt.title(\"Top Run Getters of IPL\", fontsize = 20, fontweight = 'bold')\n",
    "plt.xlabel(\"Batsmen\", size = 25)\n",
    "plt.ylabel(\"Total Runs Scored\", size = 25)"
   ]
  },
  {
   "cell_type": "markdown",
   "metadata": {},
   "source": [
    "### Consistent Batsman among top 10 run getters "
   ]
  },
  {
   "cell_type": "code",
   "execution_count": 104,
   "metadata": {},
   "outputs": [
    {
     "data": {
      "text/plain": [
       "Text(0, 0.5, 'Total Runs Scored each season')"
      ]
     },
     "execution_count": 104,
     "metadata": {},
     "output_type": "execute_result"
    },
    {
     "data": {
      "image/png": "[encoded data removed]",
      "text/plain": [
       "<Figure size 1080x576 with 1 Axes>"
      ]
     },
     "metadata": {},
     "output_type": "display_data"
    }
   ],
   "source": [
    "consistent_batsman = df_merge[df_merge.batsman.isin(['SK Raina', 'V Kohli','RG Sharma','G Gambhir',\n",
    "                                            'RV Uthappa', 'S Dhawan','CH Gayle', 'MS Dhoni',\n",
    "                                            'DA Warner', 'AB de Villiers'])][['batsman','Season','total_runs']]\n",
    "\n",
    "consistent_batsman.groupby(['Season','batsman'])['total_runs'].sum().unstack().plot(kind = 'box', figsize = (15,8))\n",
    "plt.title(\"Most Consistent batsmen of IPL\", fontsize = 20, fontweight = 'bold')\n",
    "plt.xlabel(\"Batsmen\", size = 25)\n",
    "plt.ylabel(\"Total Runs Scored each season\", size = 25)"
   ]
  },
  {
   "cell_type": "markdown",
   "metadata": {},
   "source": [
    "### Top 10 Wicket Takers of IPL"
   ]
  },
  {
   "cell_type": "code",
   "execution_count": 112,
   "metadata": {},
   "outputs": [
    {
     "data": {
      "text/plain": [
       "Text(0, 0.5, 'Total Wickets Taken')"
      ]
     },
     "execution_count": 112,
     "metadata": {},
     "output_type": "execute_result"
    },
    {
     "data": {
      "image/png": "[encoded data removed]",
      "text/plain": [
       "<Figure size 1080x360 with 1 Axes>"
      ]
     },
     "metadata": {},
     "output_type": "display_data"
    }
   ],
   "source": [
    "df_merge.groupby('bowler')['player_dismissed'].count().sort_values(ascending = False).head(10).plot(kind = 'bar', \n",
    "                                                color = 'c', figsize = (15,5))\n",
    "plt.title(\"Top Wicket Takers of IPL\", fontsize = 20, fontweight = 'bold')\n",
    "plt.xlabel(\"Bowler\", size = 25)\n",
    "plt.ylabel(\"Total Wickets Taken\", size = 25)"
   ]
  }
 ],
 "metadata": {
  "kernelspec": {
   "display_name": "Python 3",
   "language": "python",
   "name": "python3"
  },
  "language_info": {
   "codemirror_mode": {
    "name": "ipython",
    "version": 3
   },
   "file_extension": ".py",
   "mimetype": "text/x-python",
   "name": "python",
   "nbconvert_exporter": "python",
   "pygments_lexer": "ipython3",
   "version": "3.7.6"
  },
  "papermill": {
   "default_parameters": {},
   "duration": 12.294155,
   "end_time": "2021-07-16T09:15:03.752524",
   "environment_variables": {},
   "exception": null,
   "input_path": "__notebook__.ipynb",
   "output_path": "__notebook__.ipynb",
   "parameters": {},
   "start_time": "2021-07-16T09:14:51.458369",
   "version": "2.3.3"
  }
 },
 "nbformat": 4,
 "nbformat_minor": 5
}
